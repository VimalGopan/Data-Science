{
 "cells": [
  {
   "cell_type": "markdown",
   "id": "3e8b4fd5",
   "metadata": {},
   "source": [
    "# Lists"
   ]
  },
  {
   "cell_type": "code",
   "execution_count": 466,
   "id": "772adbd8",
   "metadata": {},
   "outputs": [],
   "source": [
    "L1=[1,2,3,5,6,8,10]"
   ]
  },
  {
   "cell_type": "code",
   "execution_count": 343,
   "id": "a3fb3fe3",
   "metadata": {},
   "outputs": [
    {
     "data": {
      "text/plain": [
       "[1, 2, 3, 5, 6, 8, 10]"
      ]
     },
     "execution_count": 343,
     "metadata": {},
     "output_type": "execute_result"
    }
   ],
   "source": [
    "L1"
   ]
  },
  {
   "cell_type": "code",
   "execution_count": 344,
   "id": "b61a845d",
   "metadata": {},
   "outputs": [
    {
     "data": {
      "text/plain": [
       "2"
      ]
     },
     "execution_count": 344,
     "metadata": {},
     "output_type": "execute_result"
    }
   ],
   "source": [
    "L1[1]"
   ]
  },
  {
   "cell_type": "code",
   "execution_count": 345,
   "id": "8abde5bf",
   "metadata": {},
   "outputs": [
    {
     "data": {
      "text/plain": [
       "[3, 5]"
      ]
     },
     "execution_count": 345,
     "metadata": {},
     "output_type": "execute_result"
    }
   ],
   "source": [
    "L1[2:4]"
   ]
  },
  {
   "cell_type": "code",
   "execution_count": 346,
   "id": "5d44b791",
   "metadata": {},
   "outputs": [
    {
     "data": {
      "text/plain": [
       "[1, 2, 3, 5, 6, 8, 10]"
      ]
     },
     "execution_count": 346,
     "metadata": {},
     "output_type": "execute_result"
    }
   ],
   "source": [
    "L1"
   ]
  },
  {
   "cell_type": "code",
   "execution_count": 347,
   "id": "a35b2784",
   "metadata": {},
   "outputs": [],
   "source": [
    "L1.append(11)"
   ]
  },
  {
   "cell_type": "code",
   "execution_count": 348,
   "id": "1aed27fa",
   "metadata": {},
   "outputs": [
    {
     "data": {
      "text/plain": [
       "[1, 2, 3, 5, 6, 8, 10, 11]"
      ]
     },
     "execution_count": 348,
     "metadata": {},
     "output_type": "execute_result"
    }
   ],
   "source": [
    "L1"
   ]
  },
  {
   "cell_type": "code",
   "execution_count": 349,
   "id": "3d849dfb",
   "metadata": {},
   "outputs": [],
   "source": [
    "L1.append([12,13])"
   ]
  },
  {
   "cell_type": "code",
   "execution_count": 350,
   "id": "3ee07a40",
   "metadata": {},
   "outputs": [
    {
     "data": {
      "text/plain": [
       "[1, 2, 3, 5, 6, 8, 10, 11, [12, 13]]"
      ]
     },
     "execution_count": 350,
     "metadata": {},
     "output_type": "execute_result"
    }
   ],
   "source": [
    "L1"
   ]
  },
  {
   "cell_type": "code",
   "execution_count": 351,
   "id": "08efd613",
   "metadata": {},
   "outputs": [],
   "source": [
    "L1.extend([14,15])"
   ]
  },
  {
   "cell_type": "code",
   "execution_count": 352,
   "id": "3b083f06",
   "metadata": {},
   "outputs": [
    {
     "data": {
      "text/plain": [
       "[1, 2, 3, 5, 6, 8, 10, 11, [12, 13], 14, 15]"
      ]
     },
     "execution_count": 352,
     "metadata": {},
     "output_type": "execute_result"
    }
   ],
   "source": [
    "L1"
   ]
  },
  {
   "cell_type": "code",
   "execution_count": 353,
   "id": "8b6ce57f",
   "metadata": {},
   "outputs": [],
   "source": [
    "L1.insert(3,4)"
   ]
  },
  {
   "cell_type": "code",
   "execution_count": 354,
   "id": "7128090e",
   "metadata": {},
   "outputs": [
    {
     "data": {
      "text/plain": [
       "[1, 2, 3, 4, 5, 6, 8, 10, 11, [12, 13], 14, 15]"
      ]
     },
     "execution_count": 354,
     "metadata": {},
     "output_type": "execute_result"
    }
   ],
   "source": [
    "L1"
   ]
  },
  {
   "cell_type": "code",
   "execution_count": 355,
   "id": "d12acab5",
   "metadata": {},
   "outputs": [],
   "source": [
    "L1.insert(7,9)"
   ]
  },
  {
   "cell_type": "code",
   "execution_count": 356,
   "id": "19186bbb",
   "metadata": {},
   "outputs": [
    {
     "data": {
      "text/plain": [
       "[1, 2, 3, 4, 5, 6, 8, 9, 10, 11, [12, 13], 14, 15]"
      ]
     },
     "execution_count": 356,
     "metadata": {},
     "output_type": "execute_result"
    }
   ],
   "source": [
    "L1"
   ]
  },
  {
   "cell_type": "code",
   "execution_count": 357,
   "id": "cde3731c",
   "metadata": {},
   "outputs": [
    {
     "data": {
      "text/plain": [
       "4"
      ]
     },
     "execution_count": 357,
     "metadata": {},
     "output_type": "execute_result"
    }
   ],
   "source": [
    "L1.pop(3)"
   ]
  },
  {
   "cell_type": "code",
   "execution_count": 358,
   "id": "7662b971",
   "metadata": {},
   "outputs": [
    {
     "data": {
      "text/plain": [
       "[1, 2, 3, 5, 6, 8, 9, 10, 11, [12, 13], 14, 15]"
      ]
     },
     "execution_count": 358,
     "metadata": {},
     "output_type": "execute_result"
    }
   ],
   "source": [
    "L1"
   ]
  },
  {
   "cell_type": "code",
   "execution_count": 359,
   "id": "68620d2f",
   "metadata": {},
   "outputs": [],
   "source": [
    " L1.remove(5)"
   ]
  },
  {
   "cell_type": "code",
   "execution_count": 360,
   "id": "51e70c46",
   "metadata": {},
   "outputs": [
    {
     "data": {
      "text/plain": [
       "[1, 2, 3, 6, 8, 9, 10, 11, [12, 13], 14, 15]"
      ]
     },
     "execution_count": 360,
     "metadata": {},
     "output_type": "execute_result"
    }
   ],
   "source": [
    "L1"
   ]
  },
  {
   "cell_type": "code",
   "execution_count": 361,
   "id": "f11f9387",
   "metadata": {},
   "outputs": [],
   "source": [
    "L1.insert(3,5)"
   ]
  },
  {
   "cell_type": "code",
   "execution_count": 362,
   "id": "e221f021",
   "metadata": {},
   "outputs": [],
   "source": [
    "L1.insert(3,5)"
   ]
  },
  {
   "cell_type": "code",
   "execution_count": 363,
   "id": "7062e44c",
   "metadata": {},
   "outputs": [
    {
     "data": {
      "text/plain": [
       "[1, 2, 3, 5, 5, 6, 8, 9, 10, 11, [12, 13], 14, 15]"
      ]
     },
     "execution_count": 363,
     "metadata": {},
     "output_type": "execute_result"
    }
   ],
   "source": [
    "L1"
   ]
  },
  {
   "cell_type": "code",
   "execution_count": 364,
   "id": "eda9e03d",
   "metadata": {},
   "outputs": [],
   "source": [
    "L1.remove(5)"
   ]
  },
  {
   "cell_type": "markdown",
   "id": "237f3a98",
   "metadata": {},
   "source": [
    "# "
   ]
  },
  {
   "cell_type": "code",
   "execution_count": 365,
   "id": "6a6026f1",
   "metadata": {},
   "outputs": [
    {
     "data": {
      "text/plain": [
       "[1, 2, 3, 5, 6, 8, 9, 10, 11, [12, 13], 14, 15]"
      ]
     },
     "execution_count": 365,
     "metadata": {},
     "output_type": "execute_result"
    }
   ],
   "source": [
    "L1"
   ]
  },
  {
   "cell_type": "code",
   "execution_count": 366,
   "id": "80e74711",
   "metadata": {},
   "outputs": [],
   "source": [
    "L1.insert(5,5)"
   ]
  },
  {
   "cell_type": "code",
   "execution_count": 367,
   "id": "42ffe8e2",
   "metadata": {},
   "outputs": [
    {
     "data": {
      "text/plain": [
       "[1, 2, 3, 5, 6, 5, 8, 9, 10, 11, [12, 13], 14, 15]"
      ]
     },
     "execution_count": 367,
     "metadata": {},
     "output_type": "execute_result"
    }
   ],
   "source": [
    "L1"
   ]
  },
  {
   "cell_type": "code",
   "execution_count": 368,
   "id": "4da59561",
   "metadata": {},
   "outputs": [],
   "source": [
    "L1.remove(5)"
   ]
  },
  {
   "cell_type": "code",
   "execution_count": 369,
   "id": "7c8cb340",
   "metadata": {},
   "outputs": [
    {
     "data": {
      "text/plain": [
       "[1, 2, 3, 6, 5, 8, 9, 10, 11, [12, 13], 14, 15]"
      ]
     },
     "execution_count": 369,
     "metadata": {},
     "output_type": "execute_result"
    }
   ],
   "source": [
    "L1"
   ]
  },
  {
   "cell_type": "markdown",
   "id": "a608b6db",
   "metadata": {},
   "source": [
    "# Dictionary"
   ]
  },
  {
   "cell_type": "code",
   "execution_count": 371,
   "id": "ad16cb6e",
   "metadata": {},
   "outputs": [],
   "source": [
    "dict1={'xx':10,'yy':20,'zz':30}"
   ]
  },
  {
   "cell_type": "code",
   "execution_count": 372,
   "id": "d0ddb39a",
   "metadata": {},
   "outputs": [
    {
     "data": {
      "text/plain": [
       "{'xx': 10, 'yy': 20, 'zz': 30}"
      ]
     },
     "execution_count": 372,
     "metadata": {},
     "output_type": "execute_result"
    }
   ],
   "source": [
    "dict1"
   ]
  },
  {
   "cell_type": "code",
   "execution_count": 373,
   "id": "cdff30c5",
   "metadata": {},
   "outputs": [
    {
     "data": {
      "text/plain": [
       "dict"
      ]
     },
     "execution_count": 373,
     "metadata": {},
     "output_type": "execute_result"
    }
   ],
   "source": [
    "type(dict1)"
   ]
  },
  {
   "cell_type": "code",
   "execution_count": 374,
   "id": "e17d39d3",
   "metadata": {},
   "outputs": [],
   "source": [
    "dict2={'10':'aa','20':30}"
   ]
  },
  {
   "cell_type": "code",
   "execution_count": 375,
   "id": "6c5dc3da",
   "metadata": {},
   "outputs": [
    {
     "data": {
      "text/plain": [
       "{'10': 'aa', '20': 30}"
      ]
     },
     "execution_count": 375,
     "metadata": {},
     "output_type": "execute_result"
    }
   ],
   "source": [
    "dict2"
   ]
  },
  {
   "cell_type": "code",
   "execution_count": 376,
   "id": "a48035e9",
   "metadata": {},
   "outputs": [
    {
     "data": {
      "text/plain": [
       "dict_keys(['xx', 'yy', 'zz'])"
      ]
     },
     "execution_count": 376,
     "metadata": {},
     "output_type": "execute_result"
    }
   ],
   "source": [
    "dict1.keys()"
   ]
  },
  {
   "cell_type": "code",
   "execution_count": 377,
   "id": "e57d87e0",
   "metadata": {},
   "outputs": [
    {
     "data": {
      "text/plain": [
       "10"
      ]
     },
     "execution_count": 377,
     "metadata": {},
     "output_type": "execute_result"
    }
   ],
   "source": [
    "dict1['xx']"
   ]
  },
  {
   "cell_type": "code",
   "execution_count": 378,
   "id": "3a219a0f",
   "metadata": {},
   "outputs": [
    {
     "data": {
      "text/plain": [
       "20"
      ]
     },
     "execution_count": 378,
     "metadata": {},
     "output_type": "execute_result"
    }
   ],
   "source": [
    "dict1['yy']"
   ]
  },
  {
   "cell_type": "code",
   "execution_count": 379,
   "id": "b5de066f",
   "metadata": {},
   "outputs": [
    {
     "data": {
      "text/plain": [
       "dict_values([10, 20, 30])"
      ]
     },
     "execution_count": 379,
     "metadata": {},
     "output_type": "execute_result"
    }
   ],
   "source": [
    "dict1.values()"
   ]
  },
  {
   "cell_type": "code",
   "execution_count": 380,
   "id": "268eae0e",
   "metadata": {},
   "outputs": [],
   "source": [
    "dict1.update({'ll':25,'kk':60})"
   ]
  },
  {
   "cell_type": "code",
   "execution_count": 381,
   "id": "3afa29df",
   "metadata": {},
   "outputs": [
    {
     "data": {
      "text/plain": [
       "{'xx': 10, 'yy': 20, 'zz': 30, 'll': 25, 'kk': 60}"
      ]
     },
     "execution_count": 381,
     "metadata": {},
     "output_type": "execute_result"
    }
   ],
   "source": [
    "dict1"
   ]
  },
  {
   "cell_type": "code",
   "execution_count": 382,
   "id": "3395a808",
   "metadata": {},
   "outputs": [],
   "source": [
    "dict1.clear()"
   ]
  },
  {
   "cell_type": "code",
   "execution_count": 383,
   "id": "83a933b2",
   "metadata": {},
   "outputs": [
    {
     "data": {
      "text/plain": [
       "{}"
      ]
     },
     "execution_count": 383,
     "metadata": {},
     "output_type": "execute_result"
    }
   ],
   "source": [
    "dict1"
   ]
  },
  {
   "cell_type": "code",
   "execution_count": 384,
   "id": "36a95bfa",
   "metadata": {},
   "outputs": [
    {
     "data": {
      "text/plain": [
       "'aa'"
      ]
     },
     "execution_count": 384,
     "metadata": {},
     "output_type": "execute_result"
    }
   ],
   "source": [
    "dict2.pop('10')"
   ]
  },
  {
   "cell_type": "code",
   "execution_count": 385,
   "id": "6a9e6f7f",
   "metadata": {},
   "outputs": [
    {
     "data": {
      "text/plain": [
       "{'20': 30}"
      ]
     },
     "execution_count": 385,
     "metadata": {},
     "output_type": "execute_result"
    }
   ],
   "source": [
    "dict2"
   ]
  },
  {
   "cell_type": "code",
   "execution_count": 386,
   "id": "3a6a2b4d",
   "metadata": {},
   "outputs": [],
   "source": [
    "#tuple"
   ]
  },
  {
   "cell_type": "code",
   "execution_count": 387,
   "id": "5486228c",
   "metadata": {},
   "outputs": [],
   "source": [
    "t=(10,20,30,40,'xx')"
   ]
  },
  {
   "cell_type": "code",
   "execution_count": 388,
   "id": "cdb48a01",
   "metadata": {},
   "outputs": [
    {
     "data": {
      "text/plain": [
       "(10, 20, 30, 40, 'xx')"
      ]
     },
     "execution_count": 388,
     "metadata": {},
     "output_type": "execute_result"
    }
   ],
   "source": [
    "t"
   ]
  },
  {
   "cell_type": "code",
   "execution_count": 389,
   "id": "02f549f3",
   "metadata": {},
   "outputs": [
    {
     "data": {
      "text/plain": [
       "tuple"
      ]
     },
     "execution_count": 389,
     "metadata": {},
     "output_type": "execute_result"
    }
   ],
   "source": [
    "type(t)"
   ]
  },
  {
   "cell_type": "code",
   "execution_count": 390,
   "id": "478766f2",
   "metadata": {},
   "outputs": [
    {
     "data": {
      "text/plain": [
       "20"
      ]
     },
     "execution_count": 390,
     "metadata": {},
     "output_type": "execute_result"
    }
   ],
   "source": [
    "t[1]"
   ]
  },
  {
   "cell_type": "code",
   "execution_count": 391,
   "id": "0fcd3ad7",
   "metadata": {},
   "outputs": [
    {
     "data": {
      "text/plain": [
       "5"
      ]
     },
     "execution_count": 391,
     "metadata": {},
     "output_type": "execute_result"
    }
   ],
   "source": [
    "len(t)"
   ]
  },
  {
   "cell_type": "code",
   "execution_count": 392,
   "id": "4654304c",
   "metadata": {},
   "outputs": [],
   "source": [
    "t1=(100,10,20,8,50)"
   ]
  },
  {
   "cell_type": "code",
   "execution_count": 393,
   "id": "0b2689eb",
   "metadata": {},
   "outputs": [
    {
     "data": {
      "text/plain": [
       "100"
      ]
     },
     "execution_count": 393,
     "metadata": {},
     "output_type": "execute_result"
    }
   ],
   "source": [
    "max(t1)"
   ]
  },
  {
   "cell_type": "markdown",
   "id": "d8245dc8",
   "metadata": {},
   "source": [
    "# Set"
   ]
  },
  {
   "cell_type": "code",
   "execution_count": 395,
   "id": "83b252c9",
   "metadata": {},
   "outputs": [],
   "source": [
    "s1=set(t1)"
   ]
  },
  {
   "cell_type": "code",
   "execution_count": 396,
   "id": "0d046a3e",
   "metadata": {},
   "outputs": [
    {
     "data": {
      "text/plain": [
       "{8, 10, 20, 50, 100}"
      ]
     },
     "execution_count": 396,
     "metadata": {},
     "output_type": "execute_result"
    }
   ],
   "source": [
    "s1"
   ]
  },
  {
   "cell_type": "code",
   "execution_count": 397,
   "id": "71b7288f",
   "metadata": {},
   "outputs": [
    {
     "data": {
      "text/plain": [
       "set"
      ]
     },
     "execution_count": 397,
     "metadata": {},
     "output_type": "execute_result"
    }
   ],
   "source": [
    "type(s1)"
   ]
  },
  {
   "cell_type": "code",
   "execution_count": 398,
   "id": "55e938bf",
   "metadata": {},
   "outputs": [],
   "source": [
    "s1.add(88)"
   ]
  },
  {
   "cell_type": "code",
   "execution_count": 399,
   "id": "b0a4d061",
   "metadata": {},
   "outputs": [
    {
     "data": {
      "text/plain": [
       "{8, 10, 20, 50, 88, 100}"
      ]
     },
     "execution_count": 399,
     "metadata": {},
     "output_type": "execute_result"
    }
   ],
   "source": [
    "s1"
   ]
  },
  {
   "cell_type": "code",
   "execution_count": 400,
   "id": "f98c02fe",
   "metadata": {},
   "outputs": [],
   "source": [
    "t2=tuple(s1)"
   ]
  },
  {
   "cell_type": "code",
   "execution_count": 401,
   "id": "e7ef195a",
   "metadata": {},
   "outputs": [
    {
     "data": {
      "text/plain": [
       "(100, 8, 10, 50, 20, 88)"
      ]
     },
     "execution_count": 401,
     "metadata": {},
     "output_type": "execute_result"
    }
   ],
   "source": [
    "t2"
   ]
  },
  {
   "cell_type": "code",
   "execution_count": 402,
   "id": "944ca1aa",
   "metadata": {},
   "outputs": [],
   "source": [
    "s1=set(['xx','yy','zz'])"
   ]
  },
  {
   "cell_type": "code",
   "execution_count": 403,
   "id": "e4976900",
   "metadata": {},
   "outputs": [],
   "source": [
    "s2=set(['xx','yy','zz','ll'])"
   ]
  },
  {
   "cell_type": "code",
   "execution_count": 404,
   "id": "5eaa6836",
   "metadata": {},
   "outputs": [
    {
     "data": {
      "text/plain": [
       "{'xx', 'yy', 'zz'}"
      ]
     },
     "execution_count": 404,
     "metadata": {},
     "output_type": "execute_result"
    }
   ],
   "source": [
    "s1"
   ]
  },
  {
   "cell_type": "code",
   "execution_count": 405,
   "id": "81aa5cc9",
   "metadata": {},
   "outputs": [
    {
     "data": {
      "text/plain": [
       "{'ll', 'xx', 'yy', 'zz'}"
      ]
     },
     "execution_count": 405,
     "metadata": {},
     "output_type": "execute_result"
    }
   ],
   "source": [
    "s2"
   ]
  },
  {
   "cell_type": "code",
   "execution_count": 406,
   "id": "5c527d2e",
   "metadata": {},
   "outputs": [
    {
     "data": {
      "text/plain": [
       "{'xx', 'yy', 'zz'}"
      ]
     },
     "execution_count": 406,
     "metadata": {},
     "output_type": "execute_result"
    }
   ],
   "source": [
    "s1.intersection(s2)"
   ]
  },
  {
   "cell_type": "code",
   "execution_count": 407,
   "id": "d0edeeeb",
   "metadata": {},
   "outputs": [
    {
     "data": {
      "text/plain": [
       "{'ll', 'xx', 'yy', 'zz'}"
      ]
     },
     "execution_count": 407,
     "metadata": {},
     "output_type": "execute_result"
    }
   ],
   "source": [
    "s1.union(s2)"
   ]
  },
  {
   "cell_type": "code",
   "execution_count": 408,
   "id": "c2280ed2",
   "metadata": {},
   "outputs": [
    {
     "data": {
      "text/plain": [
       "{'xx', 'yy', 'zz'}"
      ]
     },
     "execution_count": 408,
     "metadata": {},
     "output_type": "execute_result"
    }
   ],
   "source": [
    "s1"
   ]
  },
  {
   "cell_type": "code",
   "execution_count": 409,
   "id": "329fee77",
   "metadata": {},
   "outputs": [
    {
     "data": {
      "text/plain": [
       "set()"
      ]
     },
     "execution_count": 409,
     "metadata": {},
     "output_type": "execute_result"
    }
   ],
   "source": [
    "s1.difference(s2)"
   ]
  },
  {
   "cell_type": "code",
   "execution_count": 410,
   "id": "32bf2c0d",
   "metadata": {},
   "outputs": [
    {
     "data": {
      "text/plain": [
       "{'ll'}"
      ]
     },
     "execution_count": 410,
     "metadata": {},
     "output_type": "execute_result"
    }
   ],
   "source": [
    "s2.difference(s1)"
   ]
  },
  {
   "cell_type": "code",
   "execution_count": 411,
   "id": "7070cdad",
   "metadata": {},
   "outputs": [
    {
     "data": {
      "text/plain": [
       "True"
      ]
     },
     "execution_count": 411,
     "metadata": {},
     "output_type": "execute_result"
    }
   ],
   "source": [
    "s1.issubset(s1)"
   ]
  },
  {
   "cell_type": "code",
   "execution_count": 412,
   "id": "d2ef896e",
   "metadata": {},
   "outputs": [
    {
     "data": {
      "text/plain": [
       "True"
      ]
     },
     "execution_count": 412,
     "metadata": {},
     "output_type": "execute_result"
    }
   ],
   "source": [
    "s2.issubset(s2)"
   ]
  },
  {
   "cell_type": "code",
   "execution_count": 413,
   "id": "93560818",
   "metadata": {},
   "outputs": [
    {
     "data": {
      "text/plain": [
       "True"
      ]
     },
     "execution_count": 413,
     "metadata": {},
     "output_type": "execute_result"
    }
   ],
   "source": [
    "s2.issuperset(s1)"
   ]
  },
  {
   "cell_type": "code",
   "execution_count": 414,
   "id": "147ef353",
   "metadata": {},
   "outputs": [
    {
     "data": {
      "text/plain": [
       "False"
      ]
     },
     "execution_count": 414,
     "metadata": {},
     "output_type": "execute_result"
    }
   ],
   "source": [
    "s1.issuperset(s2)"
   ]
  },
  {
   "cell_type": "markdown",
   "id": "3b8d622e",
   "metadata": {},
   "source": [
    "# NUMPY"
   ]
  },
  {
   "cell_type": "code",
   "execution_count": 415,
   "id": "8f5e982e",
   "metadata": {},
   "outputs": [],
   "source": [
    "#numpy"
   ]
  },
  {
   "cell_type": "code",
   "execution_count": 416,
   "id": "2b2c1188",
   "metadata": {},
   "outputs": [],
   "source": [
    "import numpy as np"
   ]
  },
  {
   "cell_type": "code",
   "execution_count": 417,
   "id": "5fc9c3fe",
   "metadata": {},
   "outputs": [],
   "source": [
    "ar1=np.array([3,33,333])"
   ]
  },
  {
   "cell_type": "code",
   "execution_count": 418,
   "id": "3e0f0cdd",
   "metadata": {},
   "outputs": [
    {
     "data": {
      "text/plain": [
       "array([  3,  33, 333])"
      ]
     },
     "execution_count": 418,
     "metadata": {},
     "output_type": "execute_result"
    }
   ],
   "source": [
    "ar1"
   ]
  },
  {
   "cell_type": "code",
   "execution_count": 419,
   "id": "bf0909f0",
   "metadata": {},
   "outputs": [
    {
     "data": {
      "text/plain": [
       "3"
      ]
     },
     "execution_count": 419,
     "metadata": {},
     "output_type": "execute_result"
    }
   ],
   "source": [
    "ar1[0]"
   ]
  },
  {
   "cell_type": "code",
   "execution_count": 420,
   "id": "e38c0974",
   "metadata": {},
   "outputs": [
    {
     "data": {
      "text/plain": [
       "333"
      ]
     },
     "execution_count": 420,
     "metadata": {},
     "output_type": "execute_result"
    }
   ],
   "source": [
    "ar1[2]"
   ]
  },
  {
   "cell_type": "code",
   "execution_count": 421,
   "id": "73f7f698",
   "metadata": {},
   "outputs": [],
   "source": [
    "ar1[0]=5"
   ]
  },
  {
   "cell_type": "code",
   "execution_count": 422,
   "id": "1c703cb0",
   "metadata": {},
   "outputs": [
    {
     "data": {
      "text/plain": [
       "array([  5,  33, 333])"
      ]
     },
     "execution_count": 422,
     "metadata": {},
     "output_type": "execute_result"
    }
   ],
   "source": [
    "ar1"
   ]
  },
  {
   "cell_type": "code",
   "execution_count": 423,
   "id": "8fac2aa3",
   "metadata": {},
   "outputs": [],
   "source": [
    "ar2=np.array([[5,55,555],[6,66,666]]) #rank 2 array"
   ]
  },
  {
   "cell_type": "code",
   "execution_count": 424,
   "id": "9c4801e6",
   "metadata": {},
   "outputs": [
    {
     "data": {
      "text/plain": [
       "array([[  5,  55, 555],\n",
       "       [  6,  66, 666]])"
      ]
     },
     "execution_count": 424,
     "metadata": {},
     "output_type": "execute_result"
    }
   ],
   "source": [
    "ar2"
   ]
  },
  {
   "cell_type": "code",
   "execution_count": 425,
   "id": "adfbaf9f",
   "metadata": {},
   "outputs": [
    {
     "data": {
      "text/plain": [
       "array([  6,  66, 666])"
      ]
     },
     "execution_count": 425,
     "metadata": {},
     "output_type": "execute_result"
    }
   ],
   "source": [
    "ar2[1]"
   ]
  },
  {
   "cell_type": "code",
   "execution_count": 426,
   "id": "375a785f",
   "metadata": {},
   "outputs": [
    {
     "data": {
      "text/plain": [
       "66"
      ]
     },
     "execution_count": 426,
     "metadata": {},
     "output_type": "execute_result"
    }
   ],
   "source": [
    "ar2[1][1]"
   ]
  },
  {
   "cell_type": "code",
   "execution_count": 427,
   "id": "06052de6",
   "metadata": {},
   "outputs": [],
   "source": [
    "a1=np.zeros([2,2])"
   ]
  },
  {
   "cell_type": "code",
   "execution_count": 428,
   "id": "e1aed3b4",
   "metadata": {},
   "outputs": [
    {
     "data": {
      "text/plain": [
       "array([[0., 0.],\n",
       "       [0., 0.]])"
      ]
     },
     "execution_count": 428,
     "metadata": {},
     "output_type": "execute_result"
    }
   ],
   "source": [
    "a1"
   ]
  },
  {
   "cell_type": "code",
   "execution_count": 429,
   "id": "cf94a747",
   "metadata": {},
   "outputs": [],
   "source": [
    "a2=np.ones([2,2], dtype=np.int64)"
   ]
  },
  {
   "cell_type": "code",
   "execution_count": 430,
   "id": "7cc7e470",
   "metadata": {},
   "outputs": [],
   "source": [
    "a3=np.full([2,2],8)"
   ]
  },
  {
   "cell_type": "code",
   "execution_count": 431,
   "id": "e27759bf",
   "metadata": {},
   "outputs": [
    {
     "data": {
      "text/plain": [
       "array([[8, 8],\n",
       "       [8, 8]])"
      ]
     },
     "execution_count": 431,
     "metadata": {},
     "output_type": "execute_result"
    }
   ],
   "source": [
    "a3"
   ]
  },
  {
   "cell_type": "code",
   "execution_count": 432,
   "id": "5b4f95e5",
   "metadata": {},
   "outputs": [],
   "source": [
    "a4=np.eye(4,4)"
   ]
  },
  {
   "cell_type": "code",
   "execution_count": 433,
   "id": "848fb02b",
   "metadata": {},
   "outputs": [
    {
     "data": {
      "text/plain": [
       "array([[1., 0., 0., 0.],\n",
       "       [0., 1., 0., 0.],\n",
       "       [0., 0., 1., 0.],\n",
       "       [0., 0., 0., 1.]])"
      ]
     },
     "execution_count": 433,
     "metadata": {},
     "output_type": "execute_result"
    }
   ],
   "source": [
    "a4"
   ]
  },
  {
   "cell_type": "code",
   "execution_count": 434,
   "id": "42dd9500",
   "metadata": {},
   "outputs": [],
   "source": [
    "a5=np.array([[10,20,30],[40,50,60],[70,80,90]])"
   ]
  },
  {
   "cell_type": "code",
   "execution_count": 435,
   "id": "0b7208c9",
   "metadata": {},
   "outputs": [
    {
     "data": {
      "text/plain": [
       "array([[10, 20, 30],\n",
       "       [40, 50, 60],\n",
       "       [70, 80, 90]])"
      ]
     },
     "execution_count": 435,
     "metadata": {},
     "output_type": "execute_result"
    }
   ],
   "source": [
    "a5"
   ]
  },
  {
   "cell_type": "code",
   "execution_count": 436,
   "id": "6edb3630",
   "metadata": {},
   "outputs": [
    {
     "data": {
      "text/plain": [
       "(3, 3)"
      ]
     },
     "execution_count": 436,
     "metadata": {},
     "output_type": "execute_result"
    }
   ],
   "source": [
    "a5.shape"
   ]
  },
  {
   "cell_type": "code",
   "execution_count": 437,
   "id": "392cafe6",
   "metadata": {},
   "outputs": [
    {
     "data": {
      "text/plain": [
       "array([[40, 50, 60]])"
      ]
     },
     "execution_count": 437,
     "metadata": {},
     "output_type": "execute_result"
    }
   ],
   "source": [
    "a5[1:2]"
   ]
  },
  {
   "cell_type": "code",
   "execution_count": 438,
   "id": "43229729",
   "metadata": {},
   "outputs": [
    {
     "data": {
      "text/plain": [
       "array([[40, 50, 60],\n",
       "       [70, 80, 90]])"
      ]
     },
     "execution_count": 438,
     "metadata": {},
     "output_type": "execute_result"
    }
   ],
   "source": [
    "a5[1:3]"
   ]
  },
  {
   "cell_type": "code",
   "execution_count": 439,
   "id": "0665d93a",
   "metadata": {},
   "outputs": [
    {
     "data": {
      "text/plain": [
       "array([[10, 20, 30],\n",
       "       [40, 50, 60],\n",
       "       [70, 80, 90]])"
      ]
     },
     "execution_count": 439,
     "metadata": {},
     "output_type": "execute_result"
    }
   ],
   "source": [
    "a5[0:3]"
   ]
  },
  {
   "cell_type": "code",
   "execution_count": 440,
   "id": "b916a1b8",
   "metadata": {},
   "outputs": [
    {
     "data": {
      "text/plain": [
       "array([[40, 50, 60],\n",
       "       [70, 80, 90]])"
      ]
     },
     "execution_count": 440,
     "metadata": {},
     "output_type": "execute_result"
    }
   ],
   "source": [
    "a5[1:,]"
   ]
  },
  {
   "cell_type": "code",
   "execution_count": 441,
   "id": "f3c1a312",
   "metadata": {},
   "outputs": [
    {
     "data": {
      "text/plain": [
       "array([[10, 20, 30],\n",
       "       [40, 50, 60],\n",
       "       [70, 80, 90]])"
      ]
     },
     "execution_count": 441,
     "metadata": {},
     "output_type": "execute_result"
    }
   ],
   "source": [
    "a5[0:,]"
   ]
  },
  {
   "cell_type": "code",
   "execution_count": 442,
   "id": "e4e8da3f",
   "metadata": {},
   "outputs": [
    {
     "data": {
      "text/plain": [
       "array([20, 50, 80])"
      ]
     },
     "execution_count": 442,
     "metadata": {},
     "output_type": "execute_result"
    }
   ],
   "source": [
    "a5[:,1]"
   ]
  },
  {
   "cell_type": "code",
   "execution_count": 443,
   "id": "fffd46bf",
   "metadata": {},
   "outputs": [
    {
     "data": {
      "text/plain": [
       "array([30, 60, 90])"
      ]
     },
     "execution_count": 443,
     "metadata": {},
     "output_type": "execute_result"
    }
   ],
   "source": [
    "a5[:,2]"
   ]
  },
  {
   "cell_type": "code",
   "execution_count": 444,
   "id": "429e978c",
   "metadata": {},
   "outputs": [
    {
     "data": {
      "text/plain": [
       "array([[10, 20, 30],\n",
       "       [40, 50, 60],\n",
       "       [70, 80, 90]])"
      ]
     },
     "execution_count": 444,
     "metadata": {},
     "output_type": "execute_result"
    }
   ],
   "source": [
    "a5"
   ]
  },
  {
   "cell_type": "code",
   "execution_count": 445,
   "id": "d4e08bb9",
   "metadata": {},
   "outputs": [],
   "source": [
    "filter1=(a5>40)"
   ]
  },
  {
   "cell_type": "code",
   "execution_count": 446,
   "id": "144597ff",
   "metadata": {},
   "outputs": [
    {
     "data": {
      "text/plain": [
       "array([[False, False, False],\n",
       "       [False,  True,  True],\n",
       "       [ True,  True,  True]])"
      ]
     },
     "execution_count": 446,
     "metadata": {},
     "output_type": "execute_result"
    }
   ],
   "source": [
    "filter1"
   ]
  },
  {
   "cell_type": "code",
   "execution_count": 447,
   "id": "0a785abe",
   "metadata": {},
   "outputs": [
    {
     "data": {
      "text/plain": [
       "array([50, 60, 70, 80, 90])"
      ]
     },
     "execution_count": 447,
     "metadata": {},
     "output_type": "execute_result"
    }
   ],
   "source": [
    "a5[filter1]"
   ]
  },
  {
   "cell_type": "code",
   "execution_count": 448,
   "id": "32f95a33",
   "metadata": {},
   "outputs": [],
   "source": [
    "d=np.array([10.52,50.6],dtype=np.int64)"
   ]
  },
  {
   "cell_type": "code",
   "execution_count": 449,
   "id": "2bdbb0bc",
   "metadata": {},
   "outputs": [
    {
     "data": {
      "text/plain": [
       "array([10, 50], dtype=int64)"
      ]
     },
     "execution_count": 449,
     "metadata": {},
     "output_type": "execute_result"
    }
   ],
   "source": [
    "d"
   ]
  },
  {
   "cell_type": "code",
   "execution_count": 450,
   "id": "19a12c19",
   "metadata": {},
   "outputs": [],
   "source": [
    "x=np.array([[11,12],[15,16]])"
   ]
  },
  {
   "cell_type": "code",
   "execution_count": 451,
   "id": "ef6502b9",
   "metadata": {},
   "outputs": [],
   "source": [
    "y=np.array([[55,66],[99,88]])"
   ]
  },
  {
   "cell_type": "code",
   "execution_count": 452,
   "id": "fbf9287d",
   "metadata": {},
   "outputs": [],
   "source": [
    "z=np.add(x,y)"
   ]
  },
  {
   "cell_type": "code",
   "execution_count": 453,
   "id": "5a3070b3",
   "metadata": {},
   "outputs": [
    {
     "data": {
      "text/plain": [
       "array([[ 66,  78],\n",
       "       [114, 104]])"
      ]
     },
     "execution_count": 453,
     "metadata": {},
     "output_type": "execute_result"
    }
   ],
   "source": [
    "z"
   ]
  },
  {
   "cell_type": "code",
   "execution_count": 454,
   "id": "bb2d48ee",
   "metadata": {},
   "outputs": [],
   "source": [
    "s=np.multiply(x,y)"
   ]
  },
  {
   "cell_type": "code",
   "execution_count": 455,
   "id": "e9b5f54a",
   "metadata": {},
   "outputs": [
    {
     "data": {
      "text/plain": [
       "array([[ 605,  792],\n",
       "       [1485, 1408]])"
      ]
     },
     "execution_count": 455,
     "metadata": {},
     "output_type": "execute_result"
    }
   ],
   "source": [
    "s"
   ]
  },
  {
   "cell_type": "code",
   "execution_count": 456,
   "id": "a264fb90",
   "metadata": {},
   "outputs": [],
   "source": [
    "l=np.subtract(x,y)"
   ]
  },
  {
   "cell_type": "code",
   "execution_count": 457,
   "id": "ea0df4da",
   "metadata": {},
   "outputs": [
    {
     "data": {
      "text/plain": [
       "array([[-44, -54],\n",
       "       [-84, -72]])"
      ]
     },
     "execution_count": 457,
     "metadata": {},
     "output_type": "execute_result"
    }
   ],
   "source": [
    "l"
   ]
  },
  {
   "cell_type": "code",
   "execution_count": 458,
   "id": "1ab1b1ac",
   "metadata": {},
   "outputs": [],
   "source": [
    "l1=np.divide(x,y)"
   ]
  },
  {
   "cell_type": "code",
   "execution_count": 459,
   "id": "17e8e30e",
   "metadata": {},
   "outputs": [
    {
     "data": {
      "text/plain": [
       "array([[0.2       , 0.18181818],\n",
       "       [0.15151515, 0.18181818]])"
      ]
     },
     "execution_count": 459,
     "metadata": {},
     "output_type": "execute_result"
    }
   ],
   "source": [
    "l1"
   ]
  },
  {
   "cell_type": "code",
   "execution_count": 462,
   "id": "559b0ef9",
   "metadata": {},
   "outputs": [
    {
     "data": {
      "text/plain": [
       "array([[121, 144],\n",
       "       [225, 256]], dtype=int32)"
      ]
     },
     "execution_count": 462,
     "metadata": {},
     "output_type": "execute_result"
    }
   ],
   "source": [
    "l2=np.power(x,2)\n",
    "l2"
   ]
  },
  {
   "cell_type": "markdown",
   "id": "d38c8ac3",
   "metadata": {},
   "source": [
    "# CONDITIONAL STATEMENTS"
   ]
  },
  {
   "cell_type": "code",
   "execution_count": 467,
   "id": "2af29bbf",
   "metadata": {},
   "outputs": [],
   "source": [
    "import numpy as np"
   ]
  },
  {
   "cell_type": "code",
   "execution_count": 468,
   "id": "eb6e0ff9",
   "metadata": {},
   "outputs": [
    {
     "data": {
      "text/plain": [
       "array([0, 1, 2, 3, 4, 5, 6, 7, 8, 9])"
      ]
     },
     "execution_count": 468,
     "metadata": {},
     "output_type": "execute_result"
    }
   ],
   "source": [
    "x=np.array([i for i in range(10)])\n",
    "x"
   ]
  },
  {
   "cell_type": "code",
   "execution_count": 469,
   "id": "740dd060",
   "metadata": {},
   "outputs": [
    {
     "data": {
      "text/plain": [
       "array(['Even', 'Odd', 'Even', 'Odd', 'Even', 'Odd', 'Even', 'Odd', 'Even',\n",
       "       'Odd'], dtype='<U4')"
      ]
     },
     "execution_count": 469,
     "metadata": {},
     "output_type": "execute_result"
    }
   ],
   "source": [
    "np.where(x%2==0,'Even','Odd')"
   ]
  },
  {
   "cell_type": "code",
   "execution_count": 476,
   "id": "661058ed",
   "metadata": {},
   "outputs": [],
   "source": [
    "conditionlist=[x<5,x>5]\n",
    "choicelist=[x**2,x**3]"
   ]
  },
  {
   "cell_type": "code",
   "execution_count": 477,
   "id": "a6d0c304",
   "metadata": {},
   "outputs": [
    {
     "data": {
      "text/plain": [
       "array([  0,   1,   4,   9,  16,   5, 216, 343, 512, 729])"
      ]
     },
     "execution_count": 477,
     "metadata": {},
     "output_type": "execute_result"
    }
   ],
   "source": [
    "np.select(conditionlist,choicelist,default=x)"
   ]
  },
  {
   "cell_type": "markdown",
   "id": "1eec9bcd",
   "metadata": {},
   "source": [
    "# Mathematical & Statstical Functions"
   ]
  },
  {
   "cell_type": "code",
   "execution_count": 478,
   "id": "4c5ac6ae",
   "metadata": {},
   "outputs": [
    {
     "data": {
      "text/plain": [
       "array([[ 4,  3,  2],\n",
       "       [10,  0,  9],\n",
       "       [ 7, 74, 89]])"
      ]
     },
     "execution_count": 478,
     "metadata": {},
     "output_type": "execute_result"
    }
   ],
   "source": [
    "ar=np.array([[4,3,2],[10,0,9],[7,74,89]])\n",
    "ar"
   ]
  },
  {
   "cell_type": "code",
   "execution_count": 479,
   "id": "126c3521",
   "metadata": {},
   "outputs": [
    {
     "data": {
      "text/plain": [
       "0"
      ]
     },
     "execution_count": 479,
     "metadata": {},
     "output_type": "execute_result"
    }
   ],
   "source": [
    "np.amin(ar)"
   ]
  },
  {
   "cell_type": "code",
   "execution_count": 480,
   "id": "20e6972c",
   "metadata": {},
   "outputs": [
    {
     "data": {
      "text/plain": [
       "array([4, 0, 2])"
      ]
     },
     "execution_count": 480,
     "metadata": {},
     "output_type": "execute_result"
    }
   ],
   "source": [
    "np.amin(ar,axis=0)"
   ]
  },
  {
   "cell_type": "code",
   "execution_count": 481,
   "id": "2d73439c",
   "metadata": {},
   "outputs": [
    {
     "data": {
      "text/plain": [
       "array([2, 0, 7])"
      ]
     },
     "execution_count": 481,
     "metadata": {},
     "output_type": "execute_result"
    }
   ],
   "source": [
    "np.amin(ar,axis=1)"
   ]
  },
  {
   "cell_type": "code",
   "execution_count": 482,
   "id": "a78161b2",
   "metadata": {},
   "outputs": [
    {
     "data": {
      "text/plain": [
       "89"
      ]
     },
     "execution_count": 482,
     "metadata": {},
     "output_type": "execute_result"
    }
   ],
   "source": [
    "np.amax(ar)"
   ]
  },
  {
   "cell_type": "code",
   "execution_count": 483,
   "id": "5644f0f0",
   "metadata": {},
   "outputs": [
    {
     "data": {
      "text/plain": [
       "array([ 4, 10, 89])"
      ]
     },
     "execution_count": 483,
     "metadata": {},
     "output_type": "execute_result"
    }
   ],
   "source": [
    "np.amax(ar,axis=1)"
   ]
  },
  {
   "cell_type": "code",
   "execution_count": 484,
   "id": "1f3e51a6",
   "metadata": {},
   "outputs": [
    {
     "data": {
      "text/plain": [
       "7.0"
      ]
     },
     "execution_count": 484,
     "metadata": {},
     "output_type": "execute_result"
    }
   ],
   "source": [
    "np.median(ar)"
   ]
  },
  {
   "cell_type": "code",
   "execution_count": 485,
   "id": "04123da2",
   "metadata": {},
   "outputs": [
    {
     "data": {
      "text/plain": [
       "22.0"
      ]
     },
     "execution_count": 485,
     "metadata": {},
     "output_type": "execute_result"
    }
   ],
   "source": [
    "np.mean(ar)"
   ]
  },
  {
   "cell_type": "code",
   "execution_count": 486,
   "id": "a9912473",
   "metadata": {},
   "outputs": [
    {
     "data": {
      "text/plain": [
       "32.145502536643185"
      ]
     },
     "execution_count": 486,
     "metadata": {},
     "output_type": "execute_result"
    }
   ],
   "source": [
    "np.std(ar)"
   ]
  },
  {
   "cell_type": "code",
   "execution_count": 487,
   "id": "6e073dfa",
   "metadata": {},
   "outputs": [
    {
     "data": {
      "text/plain": [
       "1033.3333333333333"
      ]
     },
     "execution_count": 487,
     "metadata": {},
     "output_type": "execute_result"
    }
   ],
   "source": [
    "np.var(ar)"
   ]
  },
  {
   "cell_type": "code",
   "execution_count": 488,
   "id": "dea7b693",
   "metadata": {},
   "outputs": [
    {
     "data": {
      "text/plain": [
       "7.0"
      ]
     },
     "execution_count": 488,
     "metadata": {},
     "output_type": "execute_result"
    }
   ],
   "source": [
    "np.percentile(ar,50)"
   ]
  },
  {
   "cell_type": "code",
   "execution_count": 489,
   "id": "0d7713e6",
   "metadata": {},
   "outputs": [
    {
     "data": {
      "text/plain": [
       "array([ 0, 30, 45, 60, 90])"
      ]
     },
     "execution_count": 489,
     "metadata": {},
     "output_type": "execute_result"
    }
   ],
   "source": [
    "deg=np.array([0,30,45,60,90])\n",
    "deg"
   ]
  },
  {
   "cell_type": "code",
   "execution_count": 490,
   "id": "a3bafa2a",
   "metadata": {},
   "outputs": [
    {
     "data": {
      "text/plain": [
       "array([ 0.03141076, -0.98269893,  0.86698442, -0.33457623,  0.8794812 ])"
      ]
     },
     "execution_count": 490,
     "metadata": {},
     "output_type": "execute_result"
    }
   ],
   "source": [
    "np.sin(deg+np.pi/100)"
   ]
  },
  {
   "cell_type": "code",
   "execution_count": 491,
   "id": "d1dc0dc3",
   "metadata": {},
   "outputs": [
    {
     "data": {
      "text/plain": [
       "array([ 0.99950656,  0.18521016,  0.49833525, -0.94236869, -0.47593363])"
      ]
     },
     "execution_count": 491,
     "metadata": {},
     "output_type": "execute_result"
    }
   ],
   "source": [
    "np.cos(deg+np.pi/100)"
   ]
  },
  {
   "cell_type": "code",
   "execution_count": 492,
   "id": "a3518bd1",
   "metadata": {},
   "outputs": [
    {
     "data": {
      "text/plain": [
       "array([ 0.03142627, -5.3058587 ,  1.73976138,  0.35503751, -1.84790722])"
      ]
     },
     "execution_count": 492,
     "metadata": {},
     "output_type": "execute_result"
    }
   ],
   "source": [
    "np.tan(deg+np.pi/100)"
   ]
  },
  {
   "cell_type": "code",
   "execution_count": 493,
   "id": "0e2e3f3e",
   "metadata": {},
   "outputs": [],
   "source": [
    "#inverse trigonometric fuctions\n",
    "#arcsin\n",
    "#arccos\n",
    "#arctan"
   ]
  },
  {
   "cell_type": "code",
   "execution_count": 494,
   "id": "1847d67a",
   "metadata": {},
   "outputs": [],
   "source": [
    "ar1=np.array([0.1,0.8,-2,2,-10,12.22])"
   ]
  },
  {
   "cell_type": "code",
   "execution_count": 495,
   "id": "da98c9a6",
   "metadata": {},
   "outputs": [
    {
     "data": {
      "text/plain": [
       "array([  0.,   0.,  -2.,   2., -10.,  12.])"
      ]
     },
     "execution_count": 495,
     "metadata": {},
     "output_type": "execute_result"
    }
   ],
   "source": [
    "np.floor(ar1)"
   ]
  },
  {
   "cell_type": "code",
   "execution_count": 496,
   "id": "9f48dca8",
   "metadata": {},
   "outputs": [
    {
     "data": {
      "text/plain": [
       "array([  1.,   1.,  -2.,   2., -10.,  13.])"
      ]
     },
     "execution_count": 496,
     "metadata": {},
     "output_type": "execute_result"
    }
   ],
   "source": [
    "np.ceil(ar1)"
   ]
  },
  {
   "cell_type": "markdown",
   "id": "1a08deee",
   "metadata": {},
   "source": [
    "# 1, 2, 3 Dimensional arrays"
   ]
  },
  {
   "cell_type": "code",
   "execution_count": 502,
   "id": "4278be2e",
   "metadata": {},
   "outputs": [],
   "source": [
    "ar1d=np.array([1,2,3,4,5,6])\n",
    "ar2d=np.array([[1,2,3],[4,5,6]])\n",
    "ar3d=np.array([[[1,2,3],[4,5,6]],[[7,8,9],[3,5,7]]])"
   ]
  },
  {
   "cell_type": "code",
   "execution_count": 504,
   "id": "72544b83",
   "metadata": {},
   "outputs": [
    {
     "data": {
      "text/plain": [
       "1"
      ]
     },
     "execution_count": 504,
     "metadata": {},
     "output_type": "execute_result"
    }
   ],
   "source": [
    "ar1d[0]"
   ]
  },
  {
   "cell_type": "code",
   "execution_count": 505,
   "id": "aa5eb9ff",
   "metadata": {},
   "outputs": [
    {
     "data": {
      "text/plain": [
       "2"
      ]
     },
     "execution_count": 505,
     "metadata": {},
     "output_type": "execute_result"
    }
   ],
   "source": [
    "ar1d[1]"
   ]
  },
  {
   "cell_type": "code",
   "execution_count": 506,
   "id": "5788a0c5",
   "metadata": {},
   "outputs": [
    {
     "data": {
      "text/plain": [
       "4"
      ]
     },
     "execution_count": 506,
     "metadata": {},
     "output_type": "execute_result"
    }
   ],
   "source": [
    "ar1d[-3]"
   ]
  },
  {
   "cell_type": "code",
   "execution_count": 507,
   "id": "1c79af9b",
   "metadata": {},
   "outputs": [
    {
     "data": {
      "text/plain": [
       "1"
      ]
     },
     "execution_count": 507,
     "metadata": {},
     "output_type": "execute_result"
    }
   ],
   "source": [
    "ar1d[-6]"
   ]
  },
  {
   "cell_type": "code",
   "execution_count": 508,
   "id": "f7b21793",
   "metadata": {},
   "outputs": [
    {
     "data": {
      "text/plain": [
       "array([[1, 2, 3],\n",
       "       [4, 5, 6]])"
      ]
     },
     "execution_count": 508,
     "metadata": {},
     "output_type": "execute_result"
    }
   ],
   "source": [
    "ar2d"
   ]
  },
  {
   "cell_type": "code",
   "execution_count": 509,
   "id": "f2b5a99a",
   "metadata": {},
   "outputs": [
    {
     "data": {
      "text/plain": [
       "4"
      ]
     },
     "execution_count": 509,
     "metadata": {},
     "output_type": "execute_result"
    }
   ],
   "source": [
    "ar2d[1,0]"
   ]
  },
  {
   "cell_type": "code",
   "execution_count": 510,
   "id": "dde16372",
   "metadata": {},
   "outputs": [
    {
     "data": {
      "text/plain": [
       "6"
      ]
     },
     "execution_count": 510,
     "metadata": {},
     "output_type": "execute_result"
    }
   ],
   "source": [
    "ar2d[1,-1]"
   ]
  },
  {
   "cell_type": "code",
   "execution_count": 511,
   "id": "1088e6bd",
   "metadata": {},
   "outputs": [
    {
     "data": {
      "text/plain": [
       "array([[[1, 2, 3],\n",
       "        [4, 5, 6]],\n",
       "\n",
       "       [[7, 8, 9],\n",
       "        [3, 5, 7]]])"
      ]
     },
     "execution_count": 511,
     "metadata": {},
     "output_type": "execute_result"
    }
   ],
   "source": [
    "ar3d"
   ]
  },
  {
   "cell_type": "code",
   "execution_count": 512,
   "id": "c5b164f0",
   "metadata": {},
   "outputs": [
    {
     "data": {
      "text/plain": [
       "1"
      ]
     },
     "execution_count": 512,
     "metadata": {},
     "output_type": "execute_result"
    }
   ],
   "source": [
    "ar3d[0,0,0]"
   ]
  },
  {
   "cell_type": "code",
   "execution_count": 515,
   "id": "7b6c9e7c",
   "metadata": {},
   "outputs": [
    {
     "data": {
      "text/plain": [
       "1"
      ]
     },
     "execution_count": 515,
     "metadata": {},
     "output_type": "execute_result"
    }
   ],
   "source": [
    "ar3d[-2,-2,-3]"
   ]
  },
  {
   "cell_type": "markdown",
   "id": "44fcfa35",
   "metadata": {},
   "source": [
    "# Pandas"
   ]
  },
  {
   "cell_type": "code",
   "execution_count": 516,
   "id": "cc58a3d8",
   "metadata": {},
   "outputs": [],
   "source": [
    "import pandas as pd"
   ]
  },
  {
   "cell_type": "code",
   "execution_count": 523,
   "id": "d87fa723",
   "metadata": {},
   "outputs": [],
   "source": [
    "l=[x for x in range(5)]"
   ]
  },
  {
   "cell_type": "code",
   "execution_count": 524,
   "id": "8f47f0ed",
   "metadata": {},
   "outputs": [
    {
     "data": {
      "text/plain": [
       "[0, 1, 2, 3, 4]"
      ]
     },
     "execution_count": 524,
     "metadata": {},
     "output_type": "execute_result"
    }
   ],
   "source": [
    "l"
   ]
  },
  {
   "cell_type": "code",
   "execution_count": 525,
   "id": "d769a4f3",
   "metadata": {},
   "outputs": [],
   "source": [
    "s=pd.Series(l)"
   ]
  },
  {
   "cell_type": "code",
   "execution_count": 526,
   "id": "bda63c56",
   "metadata": {},
   "outputs": [
    {
     "data": {
      "text/plain": [
       "0    0\n",
       "1    1\n",
       "2    2\n",
       "3    3\n",
       "4    4\n",
       "dtype: int64"
      ]
     },
     "execution_count": 526,
     "metadata": {},
     "output_type": "execute_result"
    }
   ],
   "source": [
    "s"
   ]
  },
  {
   "cell_type": "code",
   "execution_count": 527,
   "id": "1adff9ee",
   "metadata": {},
   "outputs": [
    {
     "data": {
      "text/plain": [
       "3"
      ]
     },
     "execution_count": 527,
     "metadata": {},
     "output_type": "execute_result"
    }
   ],
   "source": [
    "s[3]"
   ]
  },
  {
   "cell_type": "code",
   "execution_count": 528,
   "id": "b8617ac2",
   "metadata": {},
   "outputs": [],
   "source": [
    "s=pd.Series(l,index=['a','b','c','d','e'])"
   ]
  },
  {
   "cell_type": "code",
   "execution_count": 529,
   "id": "8c532d91",
   "metadata": {},
   "outputs": [
    {
     "data": {
      "text/plain": [
       "a    0\n",
       "b    1\n",
       "c    2\n",
       "d    3\n",
       "e    4\n",
       "dtype: int64"
      ]
     },
     "execution_count": 529,
     "metadata": {},
     "output_type": "execute_result"
    }
   ],
   "source": [
    "s"
   ]
  },
  {
   "cell_type": "code",
   "execution_count": 531,
   "id": "08b9bf38",
   "metadata": {},
   "outputs": [
    {
     "data": {
      "text/plain": [
       "4"
      ]
     },
     "execution_count": 531,
     "metadata": {},
     "output_type": "execute_result"
    }
   ],
   "source": [
    "s['e']"
   ]
  },
  {
   "cell_type": "code",
   "execution_count": 534,
   "id": "2b01b150",
   "metadata": {},
   "outputs": [],
   "source": [
    "s=pd.Series([x for x in range(1,11)])"
   ]
  },
  {
   "cell_type": "code",
   "execution_count": 535,
   "id": "7236336b",
   "metadata": {},
   "outputs": [
    {
     "data": {
      "text/plain": [
       "0     1\n",
       "1     2\n",
       "2     3\n",
       "3     4\n",
       "4     5\n",
       "5     6\n",
       "6     7\n",
       "7     8\n",
       "8     9\n",
       "9    10\n",
       "dtype: int64"
      ]
     },
     "execution_count": 535,
     "metadata": {},
     "output_type": "execute_result"
    }
   ],
   "source": [
    "s"
   ]
  },
  {
   "cell_type": "code",
   "execution_count": 537,
   "id": "d58cced3",
   "metadata": {},
   "outputs": [
    {
     "data": {
      "text/plain": [
       "1"
      ]
     },
     "execution_count": 537,
     "metadata": {},
     "output_type": "execute_result"
    }
   ],
   "source": [
    "s.iloc[0]"
   ]
  },
  {
   "cell_type": "code",
   "execution_count": 538,
   "id": "8960d01f",
   "metadata": {},
   "outputs": [
    {
     "data": {
      "text/plain": [
       "3"
      ]
     },
     "execution_count": 538,
     "metadata": {},
     "output_type": "execute_result"
    }
   ],
   "source": [
    "s.iloc[2]"
   ]
  },
  {
   "cell_type": "code",
   "execution_count": 539,
   "id": "480c6748",
   "metadata": {},
   "outputs": [
    {
     "data": {
      "text/plain": [
       "7"
      ]
     },
     "execution_count": 539,
     "metadata": {},
     "output_type": "execute_result"
    }
   ],
   "source": [
    "s.iat[6]"
   ]
  },
  {
   "cell_type": "code",
   "execution_count": 540,
   "id": "8bf35c3d",
   "metadata": {},
   "outputs": [
    {
     "data": {
      "text/plain": [
       "5    6\n",
       "6    7\n",
       "7    8\n",
       "8    9\n",
       "dtype: int64"
      ]
     },
     "execution_count": 540,
     "metadata": {},
     "output_type": "execute_result"
    }
   ],
   "source": [
    "s[5:9]"
   ]
  },
  {
   "cell_type": "code",
   "execution_count": 542,
   "id": "5f37baf9",
   "metadata": {},
   "outputs": [
    {
     "data": {
      "text/plain": [
       "0     NaN\n",
       "1     2.0\n",
       "2     NaN\n",
       "3     4.0\n",
       "4     NaN\n",
       "5     6.0\n",
       "6     NaN\n",
       "7     8.0\n",
       "8     NaN\n",
       "9    10.0\n",
       "dtype: float64"
      ]
     },
     "execution_count": 542,
     "metadata": {},
     "output_type": "execute_result"
    }
   ],
   "source": [
    "s.where(s%2==0)"
   ]
  },
  {
   "cell_type": "code",
   "execution_count": 546,
   "id": "3c1db41f",
   "metadata": {},
   "outputs": [
    {
     "data": {
      "text/plain": [
       "0    Odd Number\n",
       "1             2\n",
       "2    Odd Number\n",
       "3             4\n",
       "4    Odd Number\n",
       "5             6\n",
       "6    Odd Number\n",
       "7             8\n",
       "8    Odd Number\n",
       "9            10\n",
       "dtype: object"
      ]
     },
     "execution_count": 546,
     "metadata": {},
     "output_type": "execute_result"
    }
   ],
   "source": [
    "s.where(s%2==0,'Odd Number')"
   ]
  },
  {
   "cell_type": "code",
   "execution_count": 547,
   "id": "4f273ed8",
   "metadata": {},
   "outputs": [
    {
     "data": {
      "text/plain": [
       "0      1\n",
       "1      2\n",
       "2     27\n",
       "3      4\n",
       "4    125\n",
       "5      6\n",
       "6    343\n",
       "7      8\n",
       "8    729\n",
       "9     10\n",
       "dtype: int64"
      ]
     },
     "execution_count": 547,
     "metadata": {},
     "output_type": "execute_result"
    }
   ],
   "source": [
    "s.where(s%2==0,s**3)"
   ]
  },
  {
   "cell_type": "code",
   "execution_count": 551,
   "id": "9ba532b4",
   "metadata": {},
   "outputs": [],
   "source": [
    "s.where(s%2==0,inplace=True)"
   ]
  },
  {
   "cell_type": "code",
   "execution_count": 552,
   "id": "32f35bd6",
   "metadata": {},
   "outputs": [
    {
     "data": {
      "text/plain": [
       "1     2.0\n",
       "3     4.0\n",
       "5     6.0\n",
       "7     8.0\n",
       "9    10.0\n",
       "dtype: float64"
      ]
     },
     "execution_count": 552,
     "metadata": {},
     "output_type": "execute_result"
    }
   ],
   "source": [
    "s.dropna()"
   ]
  },
  {
   "cell_type": "code",
   "execution_count": 553,
   "id": "0e871579",
   "metadata": {},
   "outputs": [
    {
     "data": {
      "text/plain": [
       "0    Filled Value\n",
       "1             2.0\n",
       "2    Filled Value\n",
       "3             4.0\n",
       "4    Filled Value\n",
       "5             6.0\n",
       "6    Filled Value\n",
       "7             8.0\n",
       "8    Filled Value\n",
       "9            10.0\n",
       "dtype: object"
      ]
     },
     "execution_count": 553,
     "metadata": {},
     "output_type": "execute_result"
    }
   ],
   "source": [
    "s.fillna('Filled Value')"
   ]
  },
  {
   "cell_type": "markdown",
   "id": "33de8666",
   "metadata": {},
   "source": [
    "### Dataframe in pandas"
   ]
  },
  {
   "cell_type": "code",
   "execution_count": 554,
   "id": "89eac116",
   "metadata": {},
   "outputs": [],
   "source": [
    "df=pd.DataFrame()"
   ]
  },
  {
   "cell_type": "code",
   "execution_count": 555,
   "id": "19e4116e",
   "metadata": {},
   "outputs": [
    {
     "data": {
      "text/plain": [
       "pandas.core.frame.DataFrame"
      ]
     },
     "execution_count": 555,
     "metadata": {},
     "output_type": "execute_result"
    }
   ],
   "source": [
    "type(df)"
   ]
  },
  {
   "cell_type": "code",
   "execution_count": 557,
   "id": "9f0c92b0",
   "metadata": {},
   "outputs": [],
   "source": [
    "df=pd.read_csv('PandasExample.csv')"
   ]
  },
  {
   "cell_type": "code",
   "execution_count": 558,
   "id": "6de92a4a",
   "metadata": {},
   "outputs": [
    {
     "data": {
      "text/html": [
       "<div>\n",
       "<style scoped>\n",
       "    .dataframe tbody tr th:only-of-type {\n",
       "        vertical-align: middle;\n",
       "    }\n",
       "\n",
       "    .dataframe tbody tr th {\n",
       "        vertical-align: top;\n",
       "    }\n",
       "\n",
       "    .dataframe thead th {\n",
       "        text-align: right;\n",
       "    }\n",
       "</style>\n",
       "<table border=\"1\" class=\"dataframe\">\n",
       "  <thead>\n",
       "    <tr style=\"text-align: right;\">\n",
       "      <th></th>\n",
       "      <th>Name</th>\n",
       "      <th>Age</th>\n",
       "      <th>Gender</th>\n",
       "    </tr>\n",
       "  </thead>\n",
       "  <tbody>\n",
       "    <tr>\n",
       "      <th>0</th>\n",
       "      <td>Nithin</td>\n",
       "      <td>24</td>\n",
       "      <td>Male</td>\n",
       "    </tr>\n",
       "    <tr>\n",
       "      <th>1</th>\n",
       "      <td>Manoj</td>\n",
       "      <td>30</td>\n",
       "      <td>Male</td>\n",
       "    </tr>\n",
       "    <tr>\n",
       "      <th>2</th>\n",
       "      <td>Shivashankar</td>\n",
       "      <td>44</td>\n",
       "      <td>Male</td>\n",
       "    </tr>\n",
       "    <tr>\n",
       "      <th>3</th>\n",
       "      <td>Swathi</td>\n",
       "      <td>18</td>\n",
       "      <td>Female</td>\n",
       "    </tr>\n",
       "    <tr>\n",
       "      <th>4</th>\n",
       "      <td>Pareekshith</td>\n",
       "      <td>28</td>\n",
       "      <td>Male</td>\n",
       "    </tr>\n",
       "  </tbody>\n",
       "</table>\n",
       "</div>"
      ],
      "text/plain": [
       "           Name  Age  Gender\n",
       "0        Nithin   24    Male\n",
       "1         Manoj   30    Male\n",
       "2  Shivashankar   44    Male\n",
       "3        Swathi   18  Female\n",
       "4   Pareekshith   28    Male"
      ]
     },
     "execution_count": 558,
     "metadata": {},
     "output_type": "execute_result"
    }
   ],
   "source": [
    "df"
   ]
  },
  {
   "cell_type": "code",
   "execution_count": 559,
   "id": "2550c531",
   "metadata": {},
   "outputs": [
    {
     "data": {
      "text/html": [
       "<div>\n",
       "<style scoped>\n",
       "    .dataframe tbody tr th:only-of-type {\n",
       "        vertical-align: middle;\n",
       "    }\n",
       "\n",
       "    .dataframe tbody tr th {\n",
       "        vertical-align: top;\n",
       "    }\n",
       "\n",
       "    .dataframe thead th {\n",
       "        text-align: right;\n",
       "    }\n",
       "</style>\n",
       "<table border=\"1\" class=\"dataframe\">\n",
       "  <thead>\n",
       "    <tr style=\"text-align: right;\">\n",
       "      <th></th>\n",
       "      <th>Name</th>\n",
       "      <th>Age</th>\n",
       "      <th>Gender</th>\n",
       "    </tr>\n",
       "  </thead>\n",
       "  <tbody>\n",
       "    <tr>\n",
       "      <th>0</th>\n",
       "      <td>Nithin</td>\n",
       "      <td>24</td>\n",
       "      <td>Male</td>\n",
       "    </tr>\n",
       "    <tr>\n",
       "      <th>1</th>\n",
       "      <td>Manoj</td>\n",
       "      <td>30</td>\n",
       "      <td>Male</td>\n",
       "    </tr>\n",
       "    <tr>\n",
       "      <th>2</th>\n",
       "      <td>Shivashankar</td>\n",
       "      <td>44</td>\n",
       "      <td>Male</td>\n",
       "    </tr>\n",
       "    <tr>\n",
       "      <th>3</th>\n",
       "      <td>Swathi</td>\n",
       "      <td>18</td>\n",
       "      <td>Female</td>\n",
       "    </tr>\n",
       "    <tr>\n",
       "      <th>4</th>\n",
       "      <td>Pareekshith</td>\n",
       "      <td>28</td>\n",
       "      <td>Male</td>\n",
       "    </tr>\n",
       "  </tbody>\n",
       "</table>\n",
       "</div>"
      ],
      "text/plain": [
       "           Name  Age  Gender\n",
       "0        Nithin   24    Male\n",
       "1         Manoj   30    Male\n",
       "2  Shivashankar   44    Male\n",
       "3        Swathi   18  Female\n",
       "4   Pareekshith   28    Male"
      ]
     },
     "execution_count": 559,
     "metadata": {},
     "output_type": "execute_result"
    }
   ],
   "source": [
    "df.head()"
   ]
  },
  {
   "cell_type": "code",
   "execution_count": 560,
   "id": "205c98e5",
   "metadata": {},
   "outputs": [
    {
     "data": {
      "text/html": [
       "<div>\n",
       "<style scoped>\n",
       "    .dataframe tbody tr th:only-of-type {\n",
       "        vertical-align: middle;\n",
       "    }\n",
       "\n",
       "    .dataframe tbody tr th {\n",
       "        vertical-align: top;\n",
       "    }\n",
       "\n",
       "    .dataframe thead th {\n",
       "        text-align: right;\n",
       "    }\n",
       "</style>\n",
       "<table border=\"1\" class=\"dataframe\">\n",
       "  <thead>\n",
       "    <tr style=\"text-align: right;\">\n",
       "      <th></th>\n",
       "      <th>Name</th>\n",
       "      <th>Age</th>\n",
       "      <th>Gender</th>\n",
       "    </tr>\n",
       "  </thead>\n",
       "  <tbody>\n",
       "    <tr>\n",
       "      <th>0</th>\n",
       "      <td>Nithin</td>\n",
       "      <td>24</td>\n",
       "      <td>Male</td>\n",
       "    </tr>\n",
       "    <tr>\n",
       "      <th>1</th>\n",
       "      <td>Manoj</td>\n",
       "      <td>30</td>\n",
       "      <td>Male</td>\n",
       "    </tr>\n",
       "    <tr>\n",
       "      <th>2</th>\n",
       "      <td>Shivashankar</td>\n",
       "      <td>44</td>\n",
       "      <td>Male</td>\n",
       "    </tr>\n",
       "    <tr>\n",
       "      <th>3</th>\n",
       "      <td>Swathi</td>\n",
       "      <td>18</td>\n",
       "      <td>Female</td>\n",
       "    </tr>\n",
       "    <tr>\n",
       "      <th>4</th>\n",
       "      <td>Pareekshith</td>\n",
       "      <td>28</td>\n",
       "      <td>Male</td>\n",
       "    </tr>\n",
       "  </tbody>\n",
       "</table>\n",
       "</div>"
      ],
      "text/plain": [
       "           Name  Age  Gender\n",
       "0        Nithin   24    Male\n",
       "1         Manoj   30    Male\n",
       "2  Shivashankar   44    Male\n",
       "3        Swathi   18  Female\n",
       "4   Pareekshith   28    Male"
      ]
     },
     "execution_count": 560,
     "metadata": {},
     "output_type": "execute_result"
    }
   ],
   "source": [
    "df.tail()"
   ]
  },
  {
   "cell_type": "code",
   "execution_count": 561,
   "id": "078c641d",
   "metadata": {},
   "outputs": [
    {
     "data": {
      "text/html": [
       "<div>\n",
       "<style scoped>\n",
       "    .dataframe tbody tr th:only-of-type {\n",
       "        vertical-align: middle;\n",
       "    }\n",
       "\n",
       "    .dataframe tbody tr th {\n",
       "        vertical-align: top;\n",
       "    }\n",
       "\n",
       "    .dataframe thead th {\n",
       "        text-align: right;\n",
       "    }\n",
       "</style>\n",
       "<table border=\"1\" class=\"dataframe\">\n",
       "  <thead>\n",
       "    <tr style=\"text-align: right;\">\n",
       "      <th></th>\n",
       "      <th>Name</th>\n",
       "      <th>Age</th>\n",
       "      <th>Gender</th>\n",
       "    </tr>\n",
       "  </thead>\n",
       "  <tbody>\n",
       "    <tr>\n",
       "      <th>0</th>\n",
       "      <td>Nithin</td>\n",
       "      <td>24</td>\n",
       "      <td>Male</td>\n",
       "    </tr>\n",
       "    <tr>\n",
       "      <th>1</th>\n",
       "      <td>Manoj</td>\n",
       "      <td>30</td>\n",
       "      <td>Male</td>\n",
       "    </tr>\n",
       "  </tbody>\n",
       "</table>\n",
       "</div>"
      ],
      "text/plain": [
       "     Name  Age Gender\n",
       "0  Nithin   24   Male\n",
       "1   Manoj   30   Male"
      ]
     },
     "execution_count": 561,
     "metadata": {},
     "output_type": "execute_result"
    }
   ],
   "source": [
    "df.head(2)"
   ]
  },
  {
   "cell_type": "code",
   "execution_count": 562,
   "id": "b2208969",
   "metadata": {},
   "outputs": [
    {
     "data": {
      "text/html": [
       "<div>\n",
       "<style scoped>\n",
       "    .dataframe tbody tr th:only-of-type {\n",
       "        vertical-align: middle;\n",
       "    }\n",
       "\n",
       "    .dataframe tbody tr th {\n",
       "        vertical-align: top;\n",
       "    }\n",
       "\n",
       "    .dataframe thead th {\n",
       "        text-align: right;\n",
       "    }\n",
       "</style>\n",
       "<table border=\"1\" class=\"dataframe\">\n",
       "  <thead>\n",
       "    <tr style=\"text-align: right;\">\n",
       "      <th></th>\n",
       "      <th>Name</th>\n",
       "      <th>Age</th>\n",
       "      <th>Gender</th>\n",
       "    </tr>\n",
       "  </thead>\n",
       "  <tbody>\n",
       "    <tr>\n",
       "      <th>3</th>\n",
       "      <td>Swathi</td>\n",
       "      <td>18</td>\n",
       "      <td>Female</td>\n",
       "    </tr>\n",
       "    <tr>\n",
       "      <th>4</th>\n",
       "      <td>Pareekshith</td>\n",
       "      <td>28</td>\n",
       "      <td>Male</td>\n",
       "    </tr>\n",
       "  </tbody>\n",
       "</table>\n",
       "</div>"
      ],
      "text/plain": [
       "          Name  Age  Gender\n",
       "3       Swathi   18  Female\n",
       "4  Pareekshith   28    Male"
      ]
     },
     "execution_count": 562,
     "metadata": {},
     "output_type": "execute_result"
    }
   ],
   "source": [
    "df.tail(2)"
   ]
  },
  {
   "cell_type": "code",
   "execution_count": 563,
   "id": "8ce37c30",
   "metadata": {},
   "outputs": [
    {
     "data": {
      "text/plain": [
       "Name      Nithin\n",
       "Age           24\n",
       "Gender      Male\n",
       "Name: 0, dtype: object"
      ]
     },
     "execution_count": 563,
     "metadata": {},
     "output_type": "execute_result"
    }
   ],
   "source": [
    "df.iloc[0]"
   ]
  },
  {
   "cell_type": "code",
   "execution_count": 564,
   "id": "e946697e",
   "metadata": {},
   "outputs": [
    {
     "data": {
      "text/plain": [
       "array([['Nithin', 24, 'Male'],\n",
       "       ['Manoj', 30, 'Male'],\n",
       "       ['Shivashankar', 44, 'Male'],\n",
       "       ['Swathi', 18, 'Female'],\n",
       "       ['Pareekshith', 28, 'Male']], dtype=object)"
      ]
     },
     "execution_count": 564,
     "metadata": {},
     "output_type": "execute_result"
    }
   ],
   "source": [
    "df.values"
   ]
  },
  {
   "cell_type": "code",
   "execution_count": 566,
   "id": "5500a7ea",
   "metadata": {},
   "outputs": [],
   "source": [
    "df=pd.read_csv('PandasExample.csv',chunksize=2)"
   ]
  },
  {
   "cell_type": "code",
   "execution_count": 568,
   "id": "6780a196",
   "metadata": {},
   "outputs": [
    {
     "name": "stdout",
     "output_type": "stream",
     "text": [
      "     Name  Age Gender\n",
      "0  Nithin   24   Male\n",
      "1   Manoj   30   Male\n",
      "           Name  Age  Gender\n",
      "2  Shivashankar   44    Male\n",
      "3        Swathi   18  Female\n",
      "          Name  Age Gender\n",
      "4  Pareekshith   28   Male\n"
     ]
    }
   ],
   "source": [
    "for chunk in df:\n",
    "    print(chunk)"
   ]
  },
  {
   "cell_type": "code",
   "execution_count": 569,
   "id": "cf2d672d",
   "metadata": {},
   "outputs": [],
   "source": [
    "df=pd.read_csv('PandasExample.csv')"
   ]
  },
  {
   "cell_type": "code",
   "execution_count": 570,
   "id": "644855dd",
   "metadata": {},
   "outputs": [],
   "source": [
    "df=df[df['Age']>25]"
   ]
  },
  {
   "cell_type": "code",
   "execution_count": 571,
   "id": "2f32ba84",
   "metadata": {},
   "outputs": [
    {
     "data": {
      "text/html": [
       "<div>\n",
       "<style scoped>\n",
       "    .dataframe tbody tr th:only-of-type {\n",
       "        vertical-align: middle;\n",
       "    }\n",
       "\n",
       "    .dataframe tbody tr th {\n",
       "        vertical-align: top;\n",
       "    }\n",
       "\n",
       "    .dataframe thead th {\n",
       "        text-align: right;\n",
       "    }\n",
       "</style>\n",
       "<table border=\"1\" class=\"dataframe\">\n",
       "  <thead>\n",
       "    <tr style=\"text-align: right;\">\n",
       "      <th></th>\n",
       "      <th>Name</th>\n",
       "      <th>Age</th>\n",
       "      <th>Gender</th>\n",
       "    </tr>\n",
       "  </thead>\n",
       "  <tbody>\n",
       "    <tr>\n",
       "      <th>1</th>\n",
       "      <td>Manoj</td>\n",
       "      <td>30</td>\n",
       "      <td>Male</td>\n",
       "    </tr>\n",
       "    <tr>\n",
       "      <th>2</th>\n",
       "      <td>Shivashankar</td>\n",
       "      <td>44</td>\n",
       "      <td>Male</td>\n",
       "    </tr>\n",
       "    <tr>\n",
       "      <th>4</th>\n",
       "      <td>Pareekshith</td>\n",
       "      <td>28</td>\n",
       "      <td>Male</td>\n",
       "    </tr>\n",
       "  </tbody>\n",
       "</table>\n",
       "</div>"
      ],
      "text/plain": [
       "           Name  Age Gender\n",
       "1         Manoj   30   Male\n",
       "2  Shivashankar   44   Male\n",
       "4   Pareekshith   28   Male"
      ]
     },
     "execution_count": 571,
     "metadata": {},
     "output_type": "execute_result"
    }
   ],
   "source": [
    "df"
   ]
  },
  {
   "cell_type": "markdown",
   "id": "99765654",
   "metadata": {},
   "source": [
    "# Pandas Panel"
   ]
  },
  {
   "cell_type": "code",
   "execution_count": 574,
   "id": "10015f2f",
   "metadata": {},
   "outputs": [],
   "source": [
    "df=pd.read_csv('HousePrices.csv',parse_dates=True)"
   ]
  },
  {
   "cell_type": "code",
   "execution_count": 575,
   "id": "c75f1ba3",
   "metadata": {},
   "outputs": [
    {
     "data": {
      "text/html": [
       "<div>\n",
       "<style scoped>\n",
       "    .dataframe tbody tr th:only-of-type {\n",
       "        vertical-align: middle;\n",
       "    }\n",
       "\n",
       "    .dataframe tbody tr th {\n",
       "        vertical-align: top;\n",
       "    }\n",
       "\n",
       "    .dataframe thead th {\n",
       "        text-align: right;\n",
       "    }\n",
       "</style>\n",
       "<table border=\"1\" class=\"dataframe\">\n",
       "  <thead>\n",
       "    <tr style=\"text-align: right;\">\n",
       "      <th></th>\n",
       "      <th>date</th>\n",
       "      <th>price</th>\n",
       "      <th>bedrooms</th>\n",
       "      <th>bathrooms</th>\n",
       "      <th>sqft_living</th>\n",
       "      <th>sqft_lot</th>\n",
       "      <th>floors</th>\n",
       "      <th>waterfront</th>\n",
       "      <th>view</th>\n",
       "      <th>condition</th>\n",
       "      <th>sqft_above</th>\n",
       "      <th>sqft_basement</th>\n",
       "      <th>yr_built</th>\n",
       "      <th>yr_renovated</th>\n",
       "      <th>street</th>\n",
       "      <th>city</th>\n",
       "      <th>statezip</th>\n",
       "      <th>country</th>\n",
       "    </tr>\n",
       "  </thead>\n",
       "  <tbody>\n",
       "    <tr>\n",
       "      <th>0</th>\n",
       "      <td>2014-05-02 00:00:00</td>\n",
       "      <td>3.130000e+05</td>\n",
       "      <td>3.0</td>\n",
       "      <td>1.50</td>\n",
       "      <td>1340</td>\n",
       "      <td>7912</td>\n",
       "      <td>1.5</td>\n",
       "      <td>0</td>\n",
       "      <td>0</td>\n",
       "      <td>3</td>\n",
       "      <td>1340</td>\n",
       "      <td>0</td>\n",
       "      <td>1955</td>\n",
       "      <td>2005</td>\n",
       "      <td>18810 Densmore Ave N</td>\n",
       "      <td>Shoreline</td>\n",
       "      <td>WA 98133</td>\n",
       "      <td>USA</td>\n",
       "    </tr>\n",
       "    <tr>\n",
       "      <th>1</th>\n",
       "      <td>2014-05-02 00:00:00</td>\n",
       "      <td>2.384000e+06</td>\n",
       "      <td>5.0</td>\n",
       "      <td>2.50</td>\n",
       "      <td>3650</td>\n",
       "      <td>9050</td>\n",
       "      <td>2.0</td>\n",
       "      <td>0</td>\n",
       "      <td>4</td>\n",
       "      <td>5</td>\n",
       "      <td>3370</td>\n",
       "      <td>280</td>\n",
       "      <td>1921</td>\n",
       "      <td>0</td>\n",
       "      <td>709 W Blaine St</td>\n",
       "      <td>Seattle</td>\n",
       "      <td>WA 98119</td>\n",
       "      <td>USA</td>\n",
       "    </tr>\n",
       "    <tr>\n",
       "      <th>2</th>\n",
       "      <td>2014-05-02 00:00:00</td>\n",
       "      <td>3.420000e+05</td>\n",
       "      <td>3.0</td>\n",
       "      <td>2.00</td>\n",
       "      <td>1930</td>\n",
       "      <td>11947</td>\n",
       "      <td>1.0</td>\n",
       "      <td>0</td>\n",
       "      <td>0</td>\n",
       "      <td>4</td>\n",
       "      <td>1930</td>\n",
       "      <td>0</td>\n",
       "      <td>1966</td>\n",
       "      <td>0</td>\n",
       "      <td>26206-26214 143rd Ave SE</td>\n",
       "      <td>Kent</td>\n",
       "      <td>WA 98042</td>\n",
       "      <td>USA</td>\n",
       "    </tr>\n",
       "    <tr>\n",
       "      <th>3</th>\n",
       "      <td>2014-05-02 00:00:00</td>\n",
       "      <td>4.200000e+05</td>\n",
       "      <td>3.0</td>\n",
       "      <td>2.25</td>\n",
       "      <td>2000</td>\n",
       "      <td>8030</td>\n",
       "      <td>1.0</td>\n",
       "      <td>0</td>\n",
       "      <td>0</td>\n",
       "      <td>4</td>\n",
       "      <td>1000</td>\n",
       "      <td>1000</td>\n",
       "      <td>1963</td>\n",
       "      <td>0</td>\n",
       "      <td>857 170th Pl NE</td>\n",
       "      <td>Bellevue</td>\n",
       "      <td>WA 98008</td>\n",
       "      <td>USA</td>\n",
       "    </tr>\n",
       "    <tr>\n",
       "      <th>4</th>\n",
       "      <td>2014-05-02 00:00:00</td>\n",
       "      <td>5.500000e+05</td>\n",
       "      <td>4.0</td>\n",
       "      <td>2.50</td>\n",
       "      <td>1940</td>\n",
       "      <td>10500</td>\n",
       "      <td>1.0</td>\n",
       "      <td>0</td>\n",
       "      <td>0</td>\n",
       "      <td>4</td>\n",
       "      <td>1140</td>\n",
       "      <td>800</td>\n",
       "      <td>1976</td>\n",
       "      <td>1992</td>\n",
       "      <td>9105 170th Ave NE</td>\n",
       "      <td>Redmond</td>\n",
       "      <td>WA 98052</td>\n",
       "      <td>USA</td>\n",
       "    </tr>\n",
       "    <tr>\n",
       "      <th>...</th>\n",
       "      <td>...</td>\n",
       "      <td>...</td>\n",
       "      <td>...</td>\n",
       "      <td>...</td>\n",
       "      <td>...</td>\n",
       "      <td>...</td>\n",
       "      <td>...</td>\n",
       "      <td>...</td>\n",
       "      <td>...</td>\n",
       "      <td>...</td>\n",
       "      <td>...</td>\n",
       "      <td>...</td>\n",
       "      <td>...</td>\n",
       "      <td>...</td>\n",
       "      <td>...</td>\n",
       "      <td>...</td>\n",
       "      <td>...</td>\n",
       "      <td>...</td>\n",
       "    </tr>\n",
       "    <tr>\n",
       "      <th>4595</th>\n",
       "      <td>2014-07-09 00:00:00</td>\n",
       "      <td>3.081667e+05</td>\n",
       "      <td>3.0</td>\n",
       "      <td>1.75</td>\n",
       "      <td>1510</td>\n",
       "      <td>6360</td>\n",
       "      <td>1.0</td>\n",
       "      <td>0</td>\n",
       "      <td>0</td>\n",
       "      <td>4</td>\n",
       "      <td>1510</td>\n",
       "      <td>0</td>\n",
       "      <td>1954</td>\n",
       "      <td>1979</td>\n",
       "      <td>501 N 143rd St</td>\n",
       "      <td>Seattle</td>\n",
       "      <td>WA 98133</td>\n",
       "      <td>USA</td>\n",
       "    </tr>\n",
       "    <tr>\n",
       "      <th>4596</th>\n",
       "      <td>2014-07-09 00:00:00</td>\n",
       "      <td>5.343333e+05</td>\n",
       "      <td>3.0</td>\n",
       "      <td>2.50</td>\n",
       "      <td>1460</td>\n",
       "      <td>7573</td>\n",
       "      <td>2.0</td>\n",
       "      <td>0</td>\n",
       "      <td>0</td>\n",
       "      <td>3</td>\n",
       "      <td>1460</td>\n",
       "      <td>0</td>\n",
       "      <td>1983</td>\n",
       "      <td>2009</td>\n",
       "      <td>14855 SE 10th Pl</td>\n",
       "      <td>Bellevue</td>\n",
       "      <td>WA 98007</td>\n",
       "      <td>USA</td>\n",
       "    </tr>\n",
       "    <tr>\n",
       "      <th>4597</th>\n",
       "      <td>2014-07-09 00:00:00</td>\n",
       "      <td>4.169042e+05</td>\n",
       "      <td>3.0</td>\n",
       "      <td>2.50</td>\n",
       "      <td>3010</td>\n",
       "      <td>7014</td>\n",
       "      <td>2.0</td>\n",
       "      <td>0</td>\n",
       "      <td>0</td>\n",
       "      <td>3</td>\n",
       "      <td>3010</td>\n",
       "      <td>0</td>\n",
       "      <td>2009</td>\n",
       "      <td>0</td>\n",
       "      <td>759 Ilwaco Pl NE</td>\n",
       "      <td>Renton</td>\n",
       "      <td>WA 98059</td>\n",
       "      <td>USA</td>\n",
       "    </tr>\n",
       "    <tr>\n",
       "      <th>4598</th>\n",
       "      <td>2014-07-10 00:00:00</td>\n",
       "      <td>2.034000e+05</td>\n",
       "      <td>4.0</td>\n",
       "      <td>2.00</td>\n",
       "      <td>2090</td>\n",
       "      <td>6630</td>\n",
       "      <td>1.0</td>\n",
       "      <td>0</td>\n",
       "      <td>0</td>\n",
       "      <td>3</td>\n",
       "      <td>1070</td>\n",
       "      <td>1020</td>\n",
       "      <td>1974</td>\n",
       "      <td>0</td>\n",
       "      <td>5148 S Creston St</td>\n",
       "      <td>Seattle</td>\n",
       "      <td>WA 98178</td>\n",
       "      <td>USA</td>\n",
       "    </tr>\n",
       "    <tr>\n",
       "      <th>4599</th>\n",
       "      <td>2014-07-10 00:00:00</td>\n",
       "      <td>2.206000e+05</td>\n",
       "      <td>3.0</td>\n",
       "      <td>2.50</td>\n",
       "      <td>1490</td>\n",
       "      <td>8102</td>\n",
       "      <td>2.0</td>\n",
       "      <td>0</td>\n",
       "      <td>0</td>\n",
       "      <td>4</td>\n",
       "      <td>1490</td>\n",
       "      <td>0</td>\n",
       "      <td>1990</td>\n",
       "      <td>0</td>\n",
       "      <td>18717 SE 258th St</td>\n",
       "      <td>Covington</td>\n",
       "      <td>WA 98042</td>\n",
       "      <td>USA</td>\n",
       "    </tr>\n",
       "  </tbody>\n",
       "</table>\n",
       "<p>4600 rows × 18 columns</p>\n",
       "</div>"
      ],
      "text/plain": [
       "                     date         price  bedrooms  bathrooms  sqft_living  \\\n",
       "0     2014-05-02 00:00:00  3.130000e+05       3.0       1.50         1340   \n",
       "1     2014-05-02 00:00:00  2.384000e+06       5.0       2.50         3650   \n",
       "2     2014-05-02 00:00:00  3.420000e+05       3.0       2.00         1930   \n",
       "3     2014-05-02 00:00:00  4.200000e+05       3.0       2.25         2000   \n",
       "4     2014-05-02 00:00:00  5.500000e+05       4.0       2.50         1940   \n",
       "...                   ...           ...       ...        ...          ...   \n",
       "4595  2014-07-09 00:00:00  3.081667e+05       3.0       1.75         1510   \n",
       "4596  2014-07-09 00:00:00  5.343333e+05       3.0       2.50         1460   \n",
       "4597  2014-07-09 00:00:00  4.169042e+05       3.0       2.50         3010   \n",
       "4598  2014-07-10 00:00:00  2.034000e+05       4.0       2.00         2090   \n",
       "4599  2014-07-10 00:00:00  2.206000e+05       3.0       2.50         1490   \n",
       "\n",
       "      sqft_lot  floors  waterfront  view  condition  sqft_above  \\\n",
       "0         7912     1.5           0     0          3        1340   \n",
       "1         9050     2.0           0     4          5        3370   \n",
       "2        11947     1.0           0     0          4        1930   \n",
       "3         8030     1.0           0     0          4        1000   \n",
       "4        10500     1.0           0     0          4        1140   \n",
       "...        ...     ...         ...   ...        ...         ...   \n",
       "4595      6360     1.0           0     0          4        1510   \n",
       "4596      7573     2.0           0     0          3        1460   \n",
       "4597      7014     2.0           0     0          3        3010   \n",
       "4598      6630     1.0           0     0          3        1070   \n",
       "4599      8102     2.0           0     0          4        1490   \n",
       "\n",
       "      sqft_basement  yr_built  yr_renovated                    street  \\\n",
       "0                 0      1955          2005      18810 Densmore Ave N   \n",
       "1               280      1921             0           709 W Blaine St   \n",
       "2                 0      1966             0  26206-26214 143rd Ave SE   \n",
       "3              1000      1963             0           857 170th Pl NE   \n",
       "4               800      1976          1992         9105 170th Ave NE   \n",
       "...             ...       ...           ...                       ...   \n",
       "4595              0      1954          1979            501 N 143rd St   \n",
       "4596              0      1983          2009          14855 SE 10th Pl   \n",
       "4597              0      2009             0          759 Ilwaco Pl NE   \n",
       "4598           1020      1974             0         5148 S Creston St   \n",
       "4599              0      1990             0         18717 SE 258th St   \n",
       "\n",
       "           city  statezip country  \n",
       "0     Shoreline  WA 98133     USA  \n",
       "1       Seattle  WA 98119     USA  \n",
       "2          Kent  WA 98042     USA  \n",
       "3      Bellevue  WA 98008     USA  \n",
       "4       Redmond  WA 98052     USA  \n",
       "...         ...       ...     ...  \n",
       "4595    Seattle  WA 98133     USA  \n",
       "4596   Bellevue  WA 98007     USA  \n",
       "4597     Renton  WA 98059     USA  \n",
       "4598    Seattle  WA 98178     USA  \n",
       "4599  Covington  WA 98042     USA  \n",
       "\n",
       "[4600 rows x 18 columns]"
      ]
     },
     "execution_count": 575,
     "metadata": {},
     "output_type": "execute_result"
    }
   ],
   "source": [
    "df"
   ]
  },
  {
   "cell_type": "code",
   "execution_count": 577,
   "id": "f3610ffe",
   "metadata": {},
   "outputs": [],
   "source": [
    "df.set_index(['city','date'],inplace=True)"
   ]
  },
  {
   "cell_type": "code",
   "execution_count": 578,
   "id": "d33365e5",
   "metadata": {},
   "outputs": [
    {
     "data": {
      "text/html": [
       "<div>\n",
       "<style scoped>\n",
       "    .dataframe tbody tr th:only-of-type {\n",
       "        vertical-align: middle;\n",
       "    }\n",
       "\n",
       "    .dataframe tbody tr th {\n",
       "        vertical-align: top;\n",
       "    }\n",
       "\n",
       "    .dataframe thead th {\n",
       "        text-align: right;\n",
       "    }\n",
       "</style>\n",
       "<table border=\"1\" class=\"dataframe\">\n",
       "  <thead>\n",
       "    <tr style=\"text-align: right;\">\n",
       "      <th></th>\n",
       "      <th></th>\n",
       "      <th>price</th>\n",
       "      <th>bedrooms</th>\n",
       "      <th>bathrooms</th>\n",
       "      <th>sqft_living</th>\n",
       "      <th>sqft_lot</th>\n",
       "      <th>floors</th>\n",
       "      <th>waterfront</th>\n",
       "      <th>view</th>\n",
       "      <th>condition</th>\n",
       "      <th>sqft_above</th>\n",
       "      <th>sqft_basement</th>\n",
       "      <th>yr_built</th>\n",
       "      <th>yr_renovated</th>\n",
       "      <th>street</th>\n",
       "      <th>statezip</th>\n",
       "      <th>country</th>\n",
       "    </tr>\n",
       "    <tr>\n",
       "      <th>city</th>\n",
       "      <th>date</th>\n",
       "      <th></th>\n",
       "      <th></th>\n",
       "      <th></th>\n",
       "      <th></th>\n",
       "      <th></th>\n",
       "      <th></th>\n",
       "      <th></th>\n",
       "      <th></th>\n",
       "      <th></th>\n",
       "      <th></th>\n",
       "      <th></th>\n",
       "      <th></th>\n",
       "      <th></th>\n",
       "      <th></th>\n",
       "      <th></th>\n",
       "      <th></th>\n",
       "    </tr>\n",
       "  </thead>\n",
       "  <tbody>\n",
       "    <tr>\n",
       "      <th>Shoreline</th>\n",
       "      <th>2014-05-02 00:00:00</th>\n",
       "      <td>3.130000e+05</td>\n",
       "      <td>3.0</td>\n",
       "      <td>1.50</td>\n",
       "      <td>1340</td>\n",
       "      <td>7912</td>\n",
       "      <td>1.5</td>\n",
       "      <td>0</td>\n",
       "      <td>0</td>\n",
       "      <td>3</td>\n",
       "      <td>1340</td>\n",
       "      <td>0</td>\n",
       "      <td>1955</td>\n",
       "      <td>2005</td>\n",
       "      <td>18810 Densmore Ave N</td>\n",
       "      <td>WA 98133</td>\n",
       "      <td>USA</td>\n",
       "    </tr>\n",
       "    <tr>\n",
       "      <th>Seattle</th>\n",
       "      <th>2014-05-02 00:00:00</th>\n",
       "      <td>2.384000e+06</td>\n",
       "      <td>5.0</td>\n",
       "      <td>2.50</td>\n",
       "      <td>3650</td>\n",
       "      <td>9050</td>\n",
       "      <td>2.0</td>\n",
       "      <td>0</td>\n",
       "      <td>4</td>\n",
       "      <td>5</td>\n",
       "      <td>3370</td>\n",
       "      <td>280</td>\n",
       "      <td>1921</td>\n",
       "      <td>0</td>\n",
       "      <td>709 W Blaine St</td>\n",
       "      <td>WA 98119</td>\n",
       "      <td>USA</td>\n",
       "    </tr>\n",
       "    <tr>\n",
       "      <th>Kent</th>\n",
       "      <th>2014-05-02 00:00:00</th>\n",
       "      <td>3.420000e+05</td>\n",
       "      <td>3.0</td>\n",
       "      <td>2.00</td>\n",
       "      <td>1930</td>\n",
       "      <td>11947</td>\n",
       "      <td>1.0</td>\n",
       "      <td>0</td>\n",
       "      <td>0</td>\n",
       "      <td>4</td>\n",
       "      <td>1930</td>\n",
       "      <td>0</td>\n",
       "      <td>1966</td>\n",
       "      <td>0</td>\n",
       "      <td>26206-26214 143rd Ave SE</td>\n",
       "      <td>WA 98042</td>\n",
       "      <td>USA</td>\n",
       "    </tr>\n",
       "    <tr>\n",
       "      <th>Bellevue</th>\n",
       "      <th>2014-05-02 00:00:00</th>\n",
       "      <td>4.200000e+05</td>\n",
       "      <td>3.0</td>\n",
       "      <td>2.25</td>\n",
       "      <td>2000</td>\n",
       "      <td>8030</td>\n",
       "      <td>1.0</td>\n",
       "      <td>0</td>\n",
       "      <td>0</td>\n",
       "      <td>4</td>\n",
       "      <td>1000</td>\n",
       "      <td>1000</td>\n",
       "      <td>1963</td>\n",
       "      <td>0</td>\n",
       "      <td>857 170th Pl NE</td>\n",
       "      <td>WA 98008</td>\n",
       "      <td>USA</td>\n",
       "    </tr>\n",
       "    <tr>\n",
       "      <th>Redmond</th>\n",
       "      <th>2014-05-02 00:00:00</th>\n",
       "      <td>5.500000e+05</td>\n",
       "      <td>4.0</td>\n",
       "      <td>2.50</td>\n",
       "      <td>1940</td>\n",
       "      <td>10500</td>\n",
       "      <td>1.0</td>\n",
       "      <td>0</td>\n",
       "      <td>0</td>\n",
       "      <td>4</td>\n",
       "      <td>1140</td>\n",
       "      <td>800</td>\n",
       "      <td>1976</td>\n",
       "      <td>1992</td>\n",
       "      <td>9105 170th Ave NE</td>\n",
       "      <td>WA 98052</td>\n",
       "      <td>USA</td>\n",
       "    </tr>\n",
       "    <tr>\n",
       "      <th>...</th>\n",
       "      <th>...</th>\n",
       "      <td>...</td>\n",
       "      <td>...</td>\n",
       "      <td>...</td>\n",
       "      <td>...</td>\n",
       "      <td>...</td>\n",
       "      <td>...</td>\n",
       "      <td>...</td>\n",
       "      <td>...</td>\n",
       "      <td>...</td>\n",
       "      <td>...</td>\n",
       "      <td>...</td>\n",
       "      <td>...</td>\n",
       "      <td>...</td>\n",
       "      <td>...</td>\n",
       "      <td>...</td>\n",
       "      <td>...</td>\n",
       "    </tr>\n",
       "    <tr>\n",
       "      <th>Seattle</th>\n",
       "      <th>2014-07-09 00:00:00</th>\n",
       "      <td>3.081667e+05</td>\n",
       "      <td>3.0</td>\n",
       "      <td>1.75</td>\n",
       "      <td>1510</td>\n",
       "      <td>6360</td>\n",
       "      <td>1.0</td>\n",
       "      <td>0</td>\n",
       "      <td>0</td>\n",
       "      <td>4</td>\n",
       "      <td>1510</td>\n",
       "      <td>0</td>\n",
       "      <td>1954</td>\n",
       "      <td>1979</td>\n",
       "      <td>501 N 143rd St</td>\n",
       "      <td>WA 98133</td>\n",
       "      <td>USA</td>\n",
       "    </tr>\n",
       "    <tr>\n",
       "      <th>Bellevue</th>\n",
       "      <th>2014-07-09 00:00:00</th>\n",
       "      <td>5.343333e+05</td>\n",
       "      <td>3.0</td>\n",
       "      <td>2.50</td>\n",
       "      <td>1460</td>\n",
       "      <td>7573</td>\n",
       "      <td>2.0</td>\n",
       "      <td>0</td>\n",
       "      <td>0</td>\n",
       "      <td>3</td>\n",
       "      <td>1460</td>\n",
       "      <td>0</td>\n",
       "      <td>1983</td>\n",
       "      <td>2009</td>\n",
       "      <td>14855 SE 10th Pl</td>\n",
       "      <td>WA 98007</td>\n",
       "      <td>USA</td>\n",
       "    </tr>\n",
       "    <tr>\n",
       "      <th>Renton</th>\n",
       "      <th>2014-07-09 00:00:00</th>\n",
       "      <td>4.169042e+05</td>\n",
       "      <td>3.0</td>\n",
       "      <td>2.50</td>\n",
       "      <td>3010</td>\n",
       "      <td>7014</td>\n",
       "      <td>2.0</td>\n",
       "      <td>0</td>\n",
       "      <td>0</td>\n",
       "      <td>3</td>\n",
       "      <td>3010</td>\n",
       "      <td>0</td>\n",
       "      <td>2009</td>\n",
       "      <td>0</td>\n",
       "      <td>759 Ilwaco Pl NE</td>\n",
       "      <td>WA 98059</td>\n",
       "      <td>USA</td>\n",
       "    </tr>\n",
       "    <tr>\n",
       "      <th>Seattle</th>\n",
       "      <th>2014-07-10 00:00:00</th>\n",
       "      <td>2.034000e+05</td>\n",
       "      <td>4.0</td>\n",
       "      <td>2.00</td>\n",
       "      <td>2090</td>\n",
       "      <td>6630</td>\n",
       "      <td>1.0</td>\n",
       "      <td>0</td>\n",
       "      <td>0</td>\n",
       "      <td>3</td>\n",
       "      <td>1070</td>\n",
       "      <td>1020</td>\n",
       "      <td>1974</td>\n",
       "      <td>0</td>\n",
       "      <td>5148 S Creston St</td>\n",
       "      <td>WA 98178</td>\n",
       "      <td>USA</td>\n",
       "    </tr>\n",
       "    <tr>\n",
       "      <th>Covington</th>\n",
       "      <th>2014-07-10 00:00:00</th>\n",
       "      <td>2.206000e+05</td>\n",
       "      <td>3.0</td>\n",
       "      <td>2.50</td>\n",
       "      <td>1490</td>\n",
       "      <td>8102</td>\n",
       "      <td>2.0</td>\n",
       "      <td>0</td>\n",
       "      <td>0</td>\n",
       "      <td>4</td>\n",
       "      <td>1490</td>\n",
       "      <td>0</td>\n",
       "      <td>1990</td>\n",
       "      <td>0</td>\n",
       "      <td>18717 SE 258th St</td>\n",
       "      <td>WA 98042</td>\n",
       "      <td>USA</td>\n",
       "    </tr>\n",
       "  </tbody>\n",
       "</table>\n",
       "<p>4600 rows × 16 columns</p>\n",
       "</div>"
      ],
      "text/plain": [
       "                                      price  bedrooms  bathrooms  sqft_living  \\\n",
       "city      date                                                                  \n",
       "Shoreline 2014-05-02 00:00:00  3.130000e+05       3.0       1.50         1340   \n",
       "Seattle   2014-05-02 00:00:00  2.384000e+06       5.0       2.50         3650   \n",
       "Kent      2014-05-02 00:00:00  3.420000e+05       3.0       2.00         1930   \n",
       "Bellevue  2014-05-02 00:00:00  4.200000e+05       3.0       2.25         2000   \n",
       "Redmond   2014-05-02 00:00:00  5.500000e+05       4.0       2.50         1940   \n",
       "...                                     ...       ...        ...          ...   \n",
       "Seattle   2014-07-09 00:00:00  3.081667e+05       3.0       1.75         1510   \n",
       "Bellevue  2014-07-09 00:00:00  5.343333e+05       3.0       2.50         1460   \n",
       "Renton    2014-07-09 00:00:00  4.169042e+05       3.0       2.50         3010   \n",
       "Seattle   2014-07-10 00:00:00  2.034000e+05       4.0       2.00         2090   \n",
       "Covington 2014-07-10 00:00:00  2.206000e+05       3.0       2.50         1490   \n",
       "\n",
       "                               sqft_lot  floors  waterfront  view  condition  \\\n",
       "city      date                                                                 \n",
       "Shoreline 2014-05-02 00:00:00      7912     1.5           0     0          3   \n",
       "Seattle   2014-05-02 00:00:00      9050     2.0           0     4          5   \n",
       "Kent      2014-05-02 00:00:00     11947     1.0           0     0          4   \n",
       "Bellevue  2014-05-02 00:00:00      8030     1.0           0     0          4   \n",
       "Redmond   2014-05-02 00:00:00     10500     1.0           0     0          4   \n",
       "...                                 ...     ...         ...   ...        ...   \n",
       "Seattle   2014-07-09 00:00:00      6360     1.0           0     0          4   \n",
       "Bellevue  2014-07-09 00:00:00      7573     2.0           0     0          3   \n",
       "Renton    2014-07-09 00:00:00      7014     2.0           0     0          3   \n",
       "Seattle   2014-07-10 00:00:00      6630     1.0           0     0          3   \n",
       "Covington 2014-07-10 00:00:00      8102     2.0           0     0          4   \n",
       "\n",
       "                               sqft_above  sqft_basement  yr_built  \\\n",
       "city      date                                                       \n",
       "Shoreline 2014-05-02 00:00:00        1340              0      1955   \n",
       "Seattle   2014-05-02 00:00:00        3370            280      1921   \n",
       "Kent      2014-05-02 00:00:00        1930              0      1966   \n",
       "Bellevue  2014-05-02 00:00:00        1000           1000      1963   \n",
       "Redmond   2014-05-02 00:00:00        1140            800      1976   \n",
       "...                                   ...            ...       ...   \n",
       "Seattle   2014-07-09 00:00:00        1510              0      1954   \n",
       "Bellevue  2014-07-09 00:00:00        1460              0      1983   \n",
       "Renton    2014-07-09 00:00:00        3010              0      2009   \n",
       "Seattle   2014-07-10 00:00:00        1070           1020      1974   \n",
       "Covington 2014-07-10 00:00:00        1490              0      1990   \n",
       "\n",
       "                               yr_renovated                    street  \\\n",
       "city      date                                                          \n",
       "Shoreline 2014-05-02 00:00:00          2005      18810 Densmore Ave N   \n",
       "Seattle   2014-05-02 00:00:00             0           709 W Blaine St   \n",
       "Kent      2014-05-02 00:00:00             0  26206-26214 143rd Ave SE   \n",
       "Bellevue  2014-05-02 00:00:00             0           857 170th Pl NE   \n",
       "Redmond   2014-05-02 00:00:00          1992         9105 170th Ave NE   \n",
       "...                                     ...                       ...   \n",
       "Seattle   2014-07-09 00:00:00          1979            501 N 143rd St   \n",
       "Bellevue  2014-07-09 00:00:00          2009          14855 SE 10th Pl   \n",
       "Renton    2014-07-09 00:00:00             0          759 Ilwaco Pl NE   \n",
       "Seattle   2014-07-10 00:00:00             0         5148 S Creston St   \n",
       "Covington 2014-07-10 00:00:00             0         18717 SE 258th St   \n",
       "\n",
       "                               statezip country  \n",
       "city      date                                   \n",
       "Shoreline 2014-05-02 00:00:00  WA 98133     USA  \n",
       "Seattle   2014-05-02 00:00:00  WA 98119     USA  \n",
       "Kent      2014-05-02 00:00:00  WA 98042     USA  \n",
       "Bellevue  2014-05-02 00:00:00  WA 98008     USA  \n",
       "Redmond   2014-05-02 00:00:00  WA 98052     USA  \n",
       "...                                 ...     ...  \n",
       "Seattle   2014-07-09 00:00:00  WA 98133     USA  \n",
       "Bellevue  2014-07-09 00:00:00  WA 98007     USA  \n",
       "Renton    2014-07-09 00:00:00  WA 98059     USA  \n",
       "Seattle   2014-07-10 00:00:00  WA 98178     USA  \n",
       "Covington 2014-07-10 00:00:00  WA 98042     USA  \n",
       "\n",
       "[4600 rows x 16 columns]"
      ]
     },
     "execution_count": 578,
     "metadata": {},
     "output_type": "execute_result"
    }
   ],
   "source": [
    "df"
   ]
  },
  {
   "cell_type": "code",
   "execution_count": 579,
   "id": "01b29ece",
   "metadata": {},
   "outputs": [
    {
     "data": {
      "text/plain": [
       "MultiIndex([(   'Shoreline', '2014-05-02 00:00:00'),\n",
       "            (     'Seattle', '2014-05-02 00:00:00'),\n",
       "            (        'Kent', '2014-05-02 00:00:00'),\n",
       "            (    'Bellevue', '2014-05-02 00:00:00'),\n",
       "            (     'Redmond', '2014-05-02 00:00:00'),\n",
       "            (     'Seattle', '2014-05-02 00:00:00'),\n",
       "            (     'Redmond', '2014-05-02 00:00:00'),\n",
       "            ('Maple Valley', '2014-05-02 00:00:00'),\n",
       "            (  'North Bend', '2014-05-02 00:00:00'),\n",
       "            (     'Seattle', '2014-05-02 00:00:00'),\n",
       "            ...\n",
       "            (      'Renton', '2014-07-08 00:00:00'),\n",
       "            (     'Seattle', '2014-07-08 00:00:00'),\n",
       "            ( 'Federal Way', '2014-07-08 00:00:00'),\n",
       "            (      'Auburn', '2014-07-08 00:00:00'),\n",
       "            (        'Kent', '2014-07-09 00:00:00'),\n",
       "            (     'Seattle', '2014-07-09 00:00:00'),\n",
       "            (    'Bellevue', '2014-07-09 00:00:00'),\n",
       "            (      'Renton', '2014-07-09 00:00:00'),\n",
       "            (     'Seattle', '2014-07-10 00:00:00'),\n",
       "            (   'Covington', '2014-07-10 00:00:00')],\n",
       "           names=['city', 'date'], length=4600)"
      ]
     },
     "execution_count": 579,
     "metadata": {},
     "output_type": "execute_result"
    }
   ],
   "source": [
    "df.index"
   ]
  },
  {
   "cell_type": "code",
   "execution_count": 580,
   "id": "632c5a0e",
   "metadata": {},
   "outputs": [
    {
     "data": {
      "text/html": [
       "<div>\n",
       "<style scoped>\n",
       "    .dataframe tbody tr th:only-of-type {\n",
       "        vertical-align: middle;\n",
       "    }\n",
       "\n",
       "    .dataframe tbody tr th {\n",
       "        vertical-align: top;\n",
       "    }\n",
       "\n",
       "    .dataframe thead th {\n",
       "        text-align: right;\n",
       "    }\n",
       "</style>\n",
       "<table border=\"1\" class=\"dataframe\">\n",
       "  <thead>\n",
       "    <tr style=\"text-align: right;\">\n",
       "      <th></th>\n",
       "      <th>price</th>\n",
       "      <th>bedrooms</th>\n",
       "      <th>bathrooms</th>\n",
       "      <th>sqft_living</th>\n",
       "      <th>sqft_lot</th>\n",
       "      <th>floors</th>\n",
       "      <th>waterfront</th>\n",
       "      <th>view</th>\n",
       "      <th>condition</th>\n",
       "      <th>sqft_above</th>\n",
       "      <th>sqft_basement</th>\n",
       "      <th>yr_built</th>\n",
       "      <th>yr_renovated</th>\n",
       "      <th>street</th>\n",
       "      <th>statezip</th>\n",
       "      <th>country</th>\n",
       "    </tr>\n",
       "    <tr>\n",
       "      <th>date</th>\n",
       "      <th></th>\n",
       "      <th></th>\n",
       "      <th></th>\n",
       "      <th></th>\n",
       "      <th></th>\n",
       "      <th></th>\n",
       "      <th></th>\n",
       "      <th></th>\n",
       "      <th></th>\n",
       "      <th></th>\n",
       "      <th></th>\n",
       "      <th></th>\n",
       "      <th></th>\n",
       "      <th></th>\n",
       "      <th></th>\n",
       "      <th></th>\n",
       "    </tr>\n",
       "  </thead>\n",
       "  <tbody>\n",
       "    <tr>\n",
       "      <th>2014-05-02 00:00:00</th>\n",
       "      <td>2.384000e+06</td>\n",
       "      <td>5.0</td>\n",
       "      <td>2.50</td>\n",
       "      <td>3650</td>\n",
       "      <td>9050</td>\n",
       "      <td>2.0</td>\n",
       "      <td>0</td>\n",
       "      <td>4</td>\n",
       "      <td>5</td>\n",
       "      <td>3370</td>\n",
       "      <td>280</td>\n",
       "      <td>1921</td>\n",
       "      <td>0</td>\n",
       "      <td>709 W Blaine St</td>\n",
       "      <td>WA 98119</td>\n",
       "      <td>USA</td>\n",
       "    </tr>\n",
       "    <tr>\n",
       "      <th>2014-05-02 00:00:00</th>\n",
       "      <td>4.900000e+05</td>\n",
       "      <td>2.0</td>\n",
       "      <td>1.00</td>\n",
       "      <td>880</td>\n",
       "      <td>6380</td>\n",
       "      <td>1.0</td>\n",
       "      <td>0</td>\n",
       "      <td>0</td>\n",
       "      <td>3</td>\n",
       "      <td>880</td>\n",
       "      <td>0</td>\n",
       "      <td>1938</td>\n",
       "      <td>1994</td>\n",
       "      <td>522 NE 88th St</td>\n",
       "      <td>WA 98115</td>\n",
       "      <td>USA</td>\n",
       "    </tr>\n",
       "    <tr>\n",
       "      <th>2014-05-02 00:00:00</th>\n",
       "      <td>6.400000e+05</td>\n",
       "      <td>4.0</td>\n",
       "      <td>2.00</td>\n",
       "      <td>1520</td>\n",
       "      <td>6200</td>\n",
       "      <td>1.5</td>\n",
       "      <td>0</td>\n",
       "      <td>0</td>\n",
       "      <td>3</td>\n",
       "      <td>1520</td>\n",
       "      <td>0</td>\n",
       "      <td>1945</td>\n",
       "      <td>2010</td>\n",
       "      <td>6811 55th Ave NE</td>\n",
       "      <td>WA 98115</td>\n",
       "      <td>USA</td>\n",
       "    </tr>\n",
       "    <tr>\n",
       "      <th>2014-05-02 00:00:00</th>\n",
       "      <td>1.400000e+06</td>\n",
       "      <td>4.0</td>\n",
       "      <td>2.50</td>\n",
       "      <td>2920</td>\n",
       "      <td>4000</td>\n",
       "      <td>1.5</td>\n",
       "      <td>0</td>\n",
       "      <td>0</td>\n",
       "      <td>5</td>\n",
       "      <td>1910</td>\n",
       "      <td>1010</td>\n",
       "      <td>1909</td>\n",
       "      <td>1988</td>\n",
       "      <td>3838-4098 44th Ave NE</td>\n",
       "      <td>WA 98105</td>\n",
       "      <td>USA</td>\n",
       "    </tr>\n",
       "    <tr>\n",
       "      <th>2014-05-02 00:00:00</th>\n",
       "      <td>3.650000e+05</td>\n",
       "      <td>3.0</td>\n",
       "      <td>1.00</td>\n",
       "      <td>1090</td>\n",
       "      <td>6435</td>\n",
       "      <td>1.0</td>\n",
       "      <td>0</td>\n",
       "      <td>0</td>\n",
       "      <td>4</td>\n",
       "      <td>1090</td>\n",
       "      <td>0</td>\n",
       "      <td>1955</td>\n",
       "      <td>2009</td>\n",
       "      <td>2504 SW Portland Ct</td>\n",
       "      <td>WA 98106</td>\n",
       "      <td>USA</td>\n",
       "    </tr>\n",
       "    <tr>\n",
       "      <th>...</th>\n",
       "      <td>...</td>\n",
       "      <td>...</td>\n",
       "      <td>...</td>\n",
       "      <td>...</td>\n",
       "      <td>...</td>\n",
       "      <td>...</td>\n",
       "      <td>...</td>\n",
       "      <td>...</td>\n",
       "      <td>...</td>\n",
       "      <td>...</td>\n",
       "      <td>...</td>\n",
       "      <td>...</td>\n",
       "      <td>...</td>\n",
       "      <td>...</td>\n",
       "      <td>...</td>\n",
       "      <td>...</td>\n",
       "    </tr>\n",
       "    <tr>\n",
       "      <th>2014-07-07 00:00:00</th>\n",
       "      <td>4.060625e+05</td>\n",
       "      <td>2.0</td>\n",
       "      <td>1.00</td>\n",
       "      <td>1290</td>\n",
       "      <td>4650</td>\n",
       "      <td>1.0</td>\n",
       "      <td>0</td>\n",
       "      <td>0</td>\n",
       "      <td>4</td>\n",
       "      <td>1290</td>\n",
       "      <td>0</td>\n",
       "      <td>1906</td>\n",
       "      <td>1990</td>\n",
       "      <td>312 NE 81st St</td>\n",
       "      <td>WA 98115</td>\n",
       "      <td>USA</td>\n",
       "    </tr>\n",
       "    <tr>\n",
       "      <th>2014-07-07 00:00:00</th>\n",
       "      <td>4.868950e+05</td>\n",
       "      <td>3.0</td>\n",
       "      <td>1.00</td>\n",
       "      <td>1890</td>\n",
       "      <td>3330</td>\n",
       "      <td>1.5</td>\n",
       "      <td>0</td>\n",
       "      <td>0</td>\n",
       "      <td>4</td>\n",
       "      <td>1390</td>\n",
       "      <td>500</td>\n",
       "      <td>1901</td>\n",
       "      <td>0</td>\n",
       "      <td>4324 Dayton Ave N</td>\n",
       "      <td>WA 98103</td>\n",
       "      <td>USA</td>\n",
       "    </tr>\n",
       "    <tr>\n",
       "      <th>2014-07-08 00:00:00</th>\n",
       "      <td>3.961667e+05</td>\n",
       "      <td>3.0</td>\n",
       "      <td>1.75</td>\n",
       "      <td>1880</td>\n",
       "      <td>5752</td>\n",
       "      <td>1.0</td>\n",
       "      <td>0</td>\n",
       "      <td>0</td>\n",
       "      <td>4</td>\n",
       "      <td>940</td>\n",
       "      <td>940</td>\n",
       "      <td>1945</td>\n",
       "      <td>0</td>\n",
       "      <td>3529 SW Webster St</td>\n",
       "      <td>WA 98126</td>\n",
       "      <td>USA</td>\n",
       "    </tr>\n",
       "    <tr>\n",
       "      <th>2014-07-09 00:00:00</th>\n",
       "      <td>3.081667e+05</td>\n",
       "      <td>3.0</td>\n",
       "      <td>1.75</td>\n",
       "      <td>1510</td>\n",
       "      <td>6360</td>\n",
       "      <td>1.0</td>\n",
       "      <td>0</td>\n",
       "      <td>0</td>\n",
       "      <td>4</td>\n",
       "      <td>1510</td>\n",
       "      <td>0</td>\n",
       "      <td>1954</td>\n",
       "      <td>1979</td>\n",
       "      <td>501 N 143rd St</td>\n",
       "      <td>WA 98133</td>\n",
       "      <td>USA</td>\n",
       "    </tr>\n",
       "    <tr>\n",
       "      <th>2014-07-10 00:00:00</th>\n",
       "      <td>2.034000e+05</td>\n",
       "      <td>4.0</td>\n",
       "      <td>2.00</td>\n",
       "      <td>2090</td>\n",
       "      <td>6630</td>\n",
       "      <td>1.0</td>\n",
       "      <td>0</td>\n",
       "      <td>0</td>\n",
       "      <td>3</td>\n",
       "      <td>1070</td>\n",
       "      <td>1020</td>\n",
       "      <td>1974</td>\n",
       "      <td>0</td>\n",
       "      <td>5148 S Creston St</td>\n",
       "      <td>WA 98178</td>\n",
       "      <td>USA</td>\n",
       "    </tr>\n",
       "  </tbody>\n",
       "</table>\n",
       "<p>1573 rows × 16 columns</p>\n",
       "</div>"
      ],
      "text/plain": [
       "                            price  bedrooms  bathrooms  sqft_living  sqft_lot  \\\n",
       "date                                                                            \n",
       "2014-05-02 00:00:00  2.384000e+06       5.0       2.50         3650      9050   \n",
       "2014-05-02 00:00:00  4.900000e+05       2.0       1.00          880      6380   \n",
       "2014-05-02 00:00:00  6.400000e+05       4.0       2.00         1520      6200   \n",
       "2014-05-02 00:00:00  1.400000e+06       4.0       2.50         2920      4000   \n",
       "2014-05-02 00:00:00  3.650000e+05       3.0       1.00         1090      6435   \n",
       "...                           ...       ...        ...          ...       ...   \n",
       "2014-07-07 00:00:00  4.060625e+05       2.0       1.00         1290      4650   \n",
       "2014-07-07 00:00:00  4.868950e+05       3.0       1.00         1890      3330   \n",
       "2014-07-08 00:00:00  3.961667e+05       3.0       1.75         1880      5752   \n",
       "2014-07-09 00:00:00  3.081667e+05       3.0       1.75         1510      6360   \n",
       "2014-07-10 00:00:00  2.034000e+05       4.0       2.00         2090      6630   \n",
       "\n",
       "                     floors  waterfront  view  condition  sqft_above  \\\n",
       "date                                                                   \n",
       "2014-05-02 00:00:00     2.0           0     4          5        3370   \n",
       "2014-05-02 00:00:00     1.0           0     0          3         880   \n",
       "2014-05-02 00:00:00     1.5           0     0          3        1520   \n",
       "2014-05-02 00:00:00     1.5           0     0          5        1910   \n",
       "2014-05-02 00:00:00     1.0           0     0          4        1090   \n",
       "...                     ...         ...   ...        ...         ...   \n",
       "2014-07-07 00:00:00     1.0           0     0          4        1290   \n",
       "2014-07-07 00:00:00     1.5           0     0          4        1390   \n",
       "2014-07-08 00:00:00     1.0           0     0          4         940   \n",
       "2014-07-09 00:00:00     1.0           0     0          4        1510   \n",
       "2014-07-10 00:00:00     1.0           0     0          3        1070   \n",
       "\n",
       "                     sqft_basement  yr_built  yr_renovated  \\\n",
       "date                                                         \n",
       "2014-05-02 00:00:00            280      1921             0   \n",
       "2014-05-02 00:00:00              0      1938          1994   \n",
       "2014-05-02 00:00:00              0      1945          2010   \n",
       "2014-05-02 00:00:00           1010      1909          1988   \n",
       "2014-05-02 00:00:00              0      1955          2009   \n",
       "...                            ...       ...           ...   \n",
       "2014-07-07 00:00:00              0      1906          1990   \n",
       "2014-07-07 00:00:00            500      1901             0   \n",
       "2014-07-08 00:00:00            940      1945             0   \n",
       "2014-07-09 00:00:00              0      1954          1979   \n",
       "2014-07-10 00:00:00           1020      1974             0   \n",
       "\n",
       "                                    street  statezip country  \n",
       "date                                                          \n",
       "2014-05-02 00:00:00        709 W Blaine St  WA 98119     USA  \n",
       "2014-05-02 00:00:00         522 NE 88th St  WA 98115     USA  \n",
       "2014-05-02 00:00:00       6811 55th Ave NE  WA 98115     USA  \n",
       "2014-05-02 00:00:00  3838-4098 44th Ave NE  WA 98105     USA  \n",
       "2014-05-02 00:00:00    2504 SW Portland Ct  WA 98106     USA  \n",
       "...                                    ...       ...     ...  \n",
       "2014-07-07 00:00:00         312 NE 81st St  WA 98115     USA  \n",
       "2014-07-07 00:00:00      4324 Dayton Ave N  WA 98103     USA  \n",
       "2014-07-08 00:00:00     3529 SW Webster St  WA 98126     USA  \n",
       "2014-07-09 00:00:00         501 N 143rd St  WA 98133     USA  \n",
       "2014-07-10 00:00:00      5148 S Creston St  WA 98178     USA  \n",
       "\n",
       "[1573 rows x 16 columns]"
      ]
     },
     "execution_count": 580,
     "metadata": {},
     "output_type": "execute_result"
    }
   ],
   "source": [
    "df.loc['Seattle']"
   ]
  },
  {
   "cell_type": "code",
   "execution_count": 581,
   "id": "6409277a",
   "metadata": {},
   "outputs": [
    {
     "data": {
      "text/html": [
       "<div>\n",
       "<style scoped>\n",
       "    .dataframe tbody tr th:only-of-type {\n",
       "        vertical-align: middle;\n",
       "    }\n",
       "\n",
       "    .dataframe tbody tr th {\n",
       "        vertical-align: top;\n",
       "    }\n",
       "\n",
       "    .dataframe thead th {\n",
       "        text-align: right;\n",
       "    }\n",
       "</style>\n",
       "<table border=\"1\" class=\"dataframe\">\n",
       "  <thead>\n",
       "    <tr style=\"text-align: right;\">\n",
       "      <th></th>\n",
       "      <th>price</th>\n",
       "      <th>bedrooms</th>\n",
       "      <th>bathrooms</th>\n",
       "      <th>sqft_living</th>\n",
       "      <th>sqft_lot</th>\n",
       "      <th>floors</th>\n",
       "      <th>waterfront</th>\n",
       "      <th>view</th>\n",
       "      <th>condition</th>\n",
       "      <th>sqft_above</th>\n",
       "      <th>sqft_basement</th>\n",
       "      <th>yr_built</th>\n",
       "      <th>yr_renovated</th>\n",
       "      <th>street</th>\n",
       "      <th>statezip</th>\n",
       "      <th>country</th>\n",
       "    </tr>\n",
       "    <tr>\n",
       "      <th>date</th>\n",
       "      <th></th>\n",
       "      <th></th>\n",
       "      <th></th>\n",
       "      <th></th>\n",
       "      <th></th>\n",
       "      <th></th>\n",
       "      <th></th>\n",
       "      <th></th>\n",
       "      <th></th>\n",
       "      <th></th>\n",
       "      <th></th>\n",
       "      <th></th>\n",
       "      <th></th>\n",
       "      <th></th>\n",
       "      <th></th>\n",
       "      <th></th>\n",
       "    </tr>\n",
       "  </thead>\n",
       "  <tbody>\n",
       "    <tr>\n",
       "      <th>2014-05-02 00:00:00</th>\n",
       "      <td>2384000.0</td>\n",
       "      <td>5.0</td>\n",
       "      <td>2.50</td>\n",
       "      <td>3650</td>\n",
       "      <td>9050</td>\n",
       "      <td>2.0</td>\n",
       "      <td>0</td>\n",
       "      <td>4</td>\n",
       "      <td>5</td>\n",
       "      <td>3370</td>\n",
       "      <td>280</td>\n",
       "      <td>1921</td>\n",
       "      <td>0</td>\n",
       "      <td>709 W Blaine St</td>\n",
       "      <td>WA 98119</td>\n",
       "      <td>USA</td>\n",
       "    </tr>\n",
       "    <tr>\n",
       "      <th>2014-05-02 00:00:00</th>\n",
       "      <td>490000.0</td>\n",
       "      <td>2.0</td>\n",
       "      <td>1.00</td>\n",
       "      <td>880</td>\n",
       "      <td>6380</td>\n",
       "      <td>1.0</td>\n",
       "      <td>0</td>\n",
       "      <td>0</td>\n",
       "      <td>3</td>\n",
       "      <td>880</td>\n",
       "      <td>0</td>\n",
       "      <td>1938</td>\n",
       "      <td>1994</td>\n",
       "      <td>522 NE 88th St</td>\n",
       "      <td>WA 98115</td>\n",
       "      <td>USA</td>\n",
       "    </tr>\n",
       "    <tr>\n",
       "      <th>2014-05-02 00:00:00</th>\n",
       "      <td>640000.0</td>\n",
       "      <td>4.0</td>\n",
       "      <td>2.00</td>\n",
       "      <td>1520</td>\n",
       "      <td>6200</td>\n",
       "      <td>1.5</td>\n",
       "      <td>0</td>\n",
       "      <td>0</td>\n",
       "      <td>3</td>\n",
       "      <td>1520</td>\n",
       "      <td>0</td>\n",
       "      <td>1945</td>\n",
       "      <td>2010</td>\n",
       "      <td>6811 55th Ave NE</td>\n",
       "      <td>WA 98115</td>\n",
       "      <td>USA</td>\n",
       "    </tr>\n",
       "    <tr>\n",
       "      <th>2014-05-02 00:00:00</th>\n",
       "      <td>1400000.0</td>\n",
       "      <td>4.0</td>\n",
       "      <td>2.50</td>\n",
       "      <td>2920</td>\n",
       "      <td>4000</td>\n",
       "      <td>1.5</td>\n",
       "      <td>0</td>\n",
       "      <td>0</td>\n",
       "      <td>5</td>\n",
       "      <td>1910</td>\n",
       "      <td>1010</td>\n",
       "      <td>1909</td>\n",
       "      <td>1988</td>\n",
       "      <td>3838-4098 44th Ave NE</td>\n",
       "      <td>WA 98105</td>\n",
       "      <td>USA</td>\n",
       "    </tr>\n",
       "    <tr>\n",
       "      <th>2014-05-02 00:00:00</th>\n",
       "      <td>365000.0</td>\n",
       "      <td>3.0</td>\n",
       "      <td>1.00</td>\n",
       "      <td>1090</td>\n",
       "      <td>6435</td>\n",
       "      <td>1.0</td>\n",
       "      <td>0</td>\n",
       "      <td>0</td>\n",
       "      <td>4</td>\n",
       "      <td>1090</td>\n",
       "      <td>0</td>\n",
       "      <td>1955</td>\n",
       "      <td>2009</td>\n",
       "      <td>2504 SW Portland Ct</td>\n",
       "      <td>WA 98106</td>\n",
       "      <td>USA</td>\n",
       "    </tr>\n",
       "    <tr>\n",
       "      <th>2014-05-02 00:00:00</th>\n",
       "      <td>1200000.0</td>\n",
       "      <td>5.0</td>\n",
       "      <td>2.75</td>\n",
       "      <td>2910</td>\n",
       "      <td>9480</td>\n",
       "      <td>1.5</td>\n",
       "      <td>0</td>\n",
       "      <td>0</td>\n",
       "      <td>3</td>\n",
       "      <td>2910</td>\n",
       "      <td>0</td>\n",
       "      <td>1939</td>\n",
       "      <td>1969</td>\n",
       "      <td>3534 46th Ave NE</td>\n",
       "      <td>WA 98105</td>\n",
       "      <td>USA</td>\n",
       "    </tr>\n",
       "    <tr>\n",
       "      <th>2014-05-02 00:00:00</th>\n",
       "      <td>750000.0</td>\n",
       "      <td>3.0</td>\n",
       "      <td>1.75</td>\n",
       "      <td>2240</td>\n",
       "      <td>10578</td>\n",
       "      <td>2.0</td>\n",
       "      <td>0</td>\n",
       "      <td>0</td>\n",
       "      <td>5</td>\n",
       "      <td>1550</td>\n",
       "      <td>690</td>\n",
       "      <td>1923</td>\n",
       "      <td>0</td>\n",
       "      <td>3225 NE 92nd St</td>\n",
       "      <td>WA 98115</td>\n",
       "      <td>USA</td>\n",
       "    </tr>\n",
       "    <tr>\n",
       "      <th>2014-05-02 00:00:00</th>\n",
       "      <td>626000.0</td>\n",
       "      <td>3.0</td>\n",
       "      <td>2.25</td>\n",
       "      <td>1750</td>\n",
       "      <td>1572</td>\n",
       "      <td>2.5</td>\n",
       "      <td>0</td>\n",
       "      <td>0</td>\n",
       "      <td>3</td>\n",
       "      <td>1470</td>\n",
       "      <td>280</td>\n",
       "      <td>2005</td>\n",
       "      <td>0</td>\n",
       "      <td>3140 Franklin Ave E</td>\n",
       "      <td>WA 98102</td>\n",
       "      <td>USA</td>\n",
       "    </tr>\n",
       "    <tr>\n",
       "      <th>2014-05-02 00:00:00</th>\n",
       "      <td>495000.0</td>\n",
       "      <td>4.0</td>\n",
       "      <td>1.75</td>\n",
       "      <td>1600</td>\n",
       "      <td>6380</td>\n",
       "      <td>1.0</td>\n",
       "      <td>0</td>\n",
       "      <td>0</td>\n",
       "      <td>3</td>\n",
       "      <td>1130</td>\n",
       "      <td>470</td>\n",
       "      <td>1959</td>\n",
       "      <td>1989</td>\n",
       "      <td>2021 NE 100th St</td>\n",
       "      <td>WA 98125</td>\n",
       "      <td>USA</td>\n",
       "    </tr>\n",
       "    <tr>\n",
       "      <th>2014-05-02 00:00:00</th>\n",
       "      <td>615000.0</td>\n",
       "      <td>3.0</td>\n",
       "      <td>1.75</td>\n",
       "      <td>2360</td>\n",
       "      <td>7291</td>\n",
       "      <td>1.0</td>\n",
       "      <td>0</td>\n",
       "      <td>0</td>\n",
       "      <td>4</td>\n",
       "      <td>1360</td>\n",
       "      <td>1000</td>\n",
       "      <td>1948</td>\n",
       "      <td>0</td>\n",
       "      <td>8436-8438 41st Ave SW</td>\n",
       "      <td>WA 98136</td>\n",
       "      <td>USA</td>\n",
       "    </tr>\n",
       "    <tr>\n",
       "      <th>2014-05-02 00:00:00</th>\n",
       "      <td>790000.0</td>\n",
       "      <td>3.0</td>\n",
       "      <td>2.50</td>\n",
       "      <td>2600</td>\n",
       "      <td>4750</td>\n",
       "      <td>1.0</td>\n",
       "      <td>0</td>\n",
       "      <td>0</td>\n",
       "      <td>4</td>\n",
       "      <td>1700</td>\n",
       "      <td>900</td>\n",
       "      <td>1951</td>\n",
       "      <td>1999</td>\n",
       "      <td>3314 NW 75th St</td>\n",
       "      <td>WA 98117</td>\n",
       "      <td>USA</td>\n",
       "    </tr>\n",
       "    <tr>\n",
       "      <th>2014-05-02 00:00:00</th>\n",
       "      <td>650000.0</td>\n",
       "      <td>4.0</td>\n",
       "      <td>2.00</td>\n",
       "      <td>1820</td>\n",
       "      <td>5000</td>\n",
       "      <td>1.5</td>\n",
       "      <td>0</td>\n",
       "      <td>1</td>\n",
       "      <td>3</td>\n",
       "      <td>1640</td>\n",
       "      <td>180</td>\n",
       "      <td>1945</td>\n",
       "      <td>2010</td>\n",
       "      <td>7201-7399 55th Ave NE</td>\n",
       "      <td>WA 98115</td>\n",
       "      <td>USA</td>\n",
       "    </tr>\n",
       "    <tr>\n",
       "      <th>2014-05-02 00:00:00</th>\n",
       "      <td>440000.0</td>\n",
       "      <td>2.0</td>\n",
       "      <td>1.00</td>\n",
       "      <td>800</td>\n",
       "      <td>4850</td>\n",
       "      <td>1.0</td>\n",
       "      <td>0</td>\n",
       "      <td>0</td>\n",
       "      <td>4</td>\n",
       "      <td>800</td>\n",
       "      <td>0</td>\n",
       "      <td>1944</td>\n",
       "      <td>0</td>\n",
       "      <td>4801-4899 6th Ave NW</td>\n",
       "      <td>WA 98107</td>\n",
       "      <td>USA</td>\n",
       "    </tr>\n",
       "    <tr>\n",
       "      <th>2014-05-02 00:00:00</th>\n",
       "      <td>750000.0</td>\n",
       "      <td>3.0</td>\n",
       "      <td>2.50</td>\n",
       "      <td>2390</td>\n",
       "      <td>6550</td>\n",
       "      <td>1.0</td>\n",
       "      <td>0</td>\n",
       "      <td>2</td>\n",
       "      <td>4</td>\n",
       "      <td>1440</td>\n",
       "      <td>950</td>\n",
       "      <td>1955</td>\n",
       "      <td>2009</td>\n",
       "      <td>3628 59th Ave SW</td>\n",
       "      <td>WA 98116</td>\n",
       "      <td>USA</td>\n",
       "    </tr>\n",
       "    <tr>\n",
       "      <th>2014-05-02 00:00:00</th>\n",
       "      <td>439950.0</td>\n",
       "      <td>3.0</td>\n",
       "      <td>2.50</td>\n",
       "      <td>1770</td>\n",
       "      <td>2875</td>\n",
       "      <td>2.0</td>\n",
       "      <td>0</td>\n",
       "      <td>0</td>\n",
       "      <td>3</td>\n",
       "      <td>1770</td>\n",
       "      <td>0</td>\n",
       "      <td>1990</td>\n",
       "      <td>2009</td>\n",
       "      <td>4458 51st Ave SW</td>\n",
       "      <td>WA 98116</td>\n",
       "      <td>USA</td>\n",
       "    </tr>\n",
       "    <tr>\n",
       "      <th>2014-05-02 00:00:00</th>\n",
       "      <td>235000.0</td>\n",
       "      <td>2.0</td>\n",
       "      <td>1.00</td>\n",
       "      <td>1210</td>\n",
       "      <td>9400</td>\n",
       "      <td>1.0</td>\n",
       "      <td>0</td>\n",
       "      <td>0</td>\n",
       "      <td>2</td>\n",
       "      <td>1210</td>\n",
       "      <td>0</td>\n",
       "      <td>1949</td>\n",
       "      <td>0</td>\n",
       "      <td>7542 21st Ave SW</td>\n",
       "      <td>WA 98106</td>\n",
       "      <td>USA</td>\n",
       "    </tr>\n",
       "    <tr>\n",
       "      <th>2014-05-02 00:00:00</th>\n",
       "      <td>445700.0</td>\n",
       "      <td>3.0</td>\n",
       "      <td>2.50</td>\n",
       "      <td>1270</td>\n",
       "      <td>1180</td>\n",
       "      <td>3.0</td>\n",
       "      <td>0</td>\n",
       "      <td>0</td>\n",
       "      <td>3</td>\n",
       "      <td>1270</td>\n",
       "      <td>0</td>\n",
       "      <td>2001</td>\n",
       "      <td>0</td>\n",
       "      <td>2640 NW 56th St</td>\n",
       "      <td>WA 98107</td>\n",
       "      <td>USA</td>\n",
       "    </tr>\n",
       "    <tr>\n",
       "      <th>2014-05-02 00:00:00</th>\n",
       "      <td>805000.0</td>\n",
       "      <td>3.0</td>\n",
       "      <td>2.00</td>\n",
       "      <td>2710</td>\n",
       "      <td>4500</td>\n",
       "      <td>1.5</td>\n",
       "      <td>0</td>\n",
       "      <td>0</td>\n",
       "      <td>4</td>\n",
       "      <td>1880</td>\n",
       "      <td>830</td>\n",
       "      <td>1929</td>\n",
       "      <td>0</td>\n",
       "      <td>6222 30th Ave NE</td>\n",
       "      <td>WA 98115</td>\n",
       "      <td>USA</td>\n",
       "    </tr>\n",
       "    <tr>\n",
       "      <th>2014-05-02 00:00:00</th>\n",
       "      <td>385000.0</td>\n",
       "      <td>3.0</td>\n",
       "      <td>3.25</td>\n",
       "      <td>1320</td>\n",
       "      <td>1327</td>\n",
       "      <td>2.0</td>\n",
       "      <td>0</td>\n",
       "      <td>0</td>\n",
       "      <td>3</td>\n",
       "      <td>1040</td>\n",
       "      <td>280</td>\n",
       "      <td>2008</td>\n",
       "      <td>0</td>\n",
       "      <td>3400 21st Ave W</td>\n",
       "      <td>WA 98199</td>\n",
       "      <td>USA</td>\n",
       "    </tr>\n",
       "    <tr>\n",
       "      <th>2014-05-02 00:00:00</th>\n",
       "      <td>295000.0</td>\n",
       "      <td>2.0</td>\n",
       "      <td>2.50</td>\n",
       "      <td>1630</td>\n",
       "      <td>1368</td>\n",
       "      <td>2.0</td>\n",
       "      <td>0</td>\n",
       "      <td>0</td>\n",
       "      <td>3</td>\n",
       "      <td>1280</td>\n",
       "      <td>350</td>\n",
       "      <td>2009</td>\n",
       "      <td>0</td>\n",
       "      <td>5944-6082 Delridge Way SW</td>\n",
       "      <td>WA 98106</td>\n",
       "      <td>USA</td>\n",
       "    </tr>\n",
       "    <tr>\n",
       "      <th>2014-05-02 00:00:00</th>\n",
       "      <td>436110.0</td>\n",
       "      <td>3.0</td>\n",
       "      <td>2.50</td>\n",
       "      <td>1770</td>\n",
       "      <td>1235</td>\n",
       "      <td>3.0</td>\n",
       "      <td>0</td>\n",
       "      <td>0</td>\n",
       "      <td>3</td>\n",
       "      <td>1600</td>\n",
       "      <td>170</td>\n",
       "      <td>2007</td>\n",
       "      <td>0</td>\n",
       "      <td>1156 N 93rd St</td>\n",
       "      <td>WA 98103</td>\n",
       "      <td>USA</td>\n",
       "    </tr>\n",
       "  </tbody>\n",
       "</table>\n",
       "</div>"
      ],
      "text/plain": [
       "                         price  bedrooms  bathrooms  sqft_living  sqft_lot  \\\n",
       "date                                                                         \n",
       "2014-05-02 00:00:00  2384000.0       5.0       2.50         3650      9050   \n",
       "2014-05-02 00:00:00   490000.0       2.0       1.00          880      6380   \n",
       "2014-05-02 00:00:00   640000.0       4.0       2.00         1520      6200   \n",
       "2014-05-02 00:00:00  1400000.0       4.0       2.50         2920      4000   \n",
       "2014-05-02 00:00:00   365000.0       3.0       1.00         1090      6435   \n",
       "2014-05-02 00:00:00  1200000.0       5.0       2.75         2910      9480   \n",
       "2014-05-02 00:00:00   750000.0       3.0       1.75         2240     10578   \n",
       "2014-05-02 00:00:00   626000.0       3.0       2.25         1750      1572   \n",
       "2014-05-02 00:00:00   495000.0       4.0       1.75         1600      6380   \n",
       "2014-05-02 00:00:00   615000.0       3.0       1.75         2360      7291   \n",
       "2014-05-02 00:00:00   790000.0       3.0       2.50         2600      4750   \n",
       "2014-05-02 00:00:00   650000.0       4.0       2.00         1820      5000   \n",
       "2014-05-02 00:00:00   440000.0       2.0       1.00          800      4850   \n",
       "2014-05-02 00:00:00   750000.0       3.0       2.50         2390      6550   \n",
       "2014-05-02 00:00:00   439950.0       3.0       2.50         1770      2875   \n",
       "2014-05-02 00:00:00   235000.0       2.0       1.00         1210      9400   \n",
       "2014-05-02 00:00:00   445700.0       3.0       2.50         1270      1180   \n",
       "2014-05-02 00:00:00   805000.0       3.0       2.00         2710      4500   \n",
       "2014-05-02 00:00:00   385000.0       3.0       3.25         1320      1327   \n",
       "2014-05-02 00:00:00   295000.0       2.0       2.50         1630      1368   \n",
       "2014-05-02 00:00:00   436110.0       3.0       2.50         1770      1235   \n",
       "\n",
       "                     floors  waterfront  view  condition  sqft_above  \\\n",
       "date                                                                   \n",
       "2014-05-02 00:00:00     2.0           0     4          5        3370   \n",
       "2014-05-02 00:00:00     1.0           0     0          3         880   \n",
       "2014-05-02 00:00:00     1.5           0     0          3        1520   \n",
       "2014-05-02 00:00:00     1.5           0     0          5        1910   \n",
       "2014-05-02 00:00:00     1.0           0     0          4        1090   \n",
       "2014-05-02 00:00:00     1.5           0     0          3        2910   \n",
       "2014-05-02 00:00:00     2.0           0     0          5        1550   \n",
       "2014-05-02 00:00:00     2.5           0     0          3        1470   \n",
       "2014-05-02 00:00:00     1.0           0     0          3        1130   \n",
       "2014-05-02 00:00:00     1.0           0     0          4        1360   \n",
       "2014-05-02 00:00:00     1.0           0     0          4        1700   \n",
       "2014-05-02 00:00:00     1.5           0     1          3        1640   \n",
       "2014-05-02 00:00:00     1.0           0     0          4         800   \n",
       "2014-05-02 00:00:00     1.0           0     2          4        1440   \n",
       "2014-05-02 00:00:00     2.0           0     0          3        1770   \n",
       "2014-05-02 00:00:00     1.0           0     0          2        1210   \n",
       "2014-05-02 00:00:00     3.0           0     0          3        1270   \n",
       "2014-05-02 00:00:00     1.5           0     0          4        1880   \n",
       "2014-05-02 00:00:00     2.0           0     0          3        1040   \n",
       "2014-05-02 00:00:00     2.0           0     0          3        1280   \n",
       "2014-05-02 00:00:00     3.0           0     0          3        1600   \n",
       "\n",
       "                     sqft_basement  yr_built  yr_renovated  \\\n",
       "date                                                         \n",
       "2014-05-02 00:00:00            280      1921             0   \n",
       "2014-05-02 00:00:00              0      1938          1994   \n",
       "2014-05-02 00:00:00              0      1945          2010   \n",
       "2014-05-02 00:00:00           1010      1909          1988   \n",
       "2014-05-02 00:00:00              0      1955          2009   \n",
       "2014-05-02 00:00:00              0      1939          1969   \n",
       "2014-05-02 00:00:00            690      1923             0   \n",
       "2014-05-02 00:00:00            280      2005             0   \n",
       "2014-05-02 00:00:00            470      1959          1989   \n",
       "2014-05-02 00:00:00           1000      1948             0   \n",
       "2014-05-02 00:00:00            900      1951          1999   \n",
       "2014-05-02 00:00:00            180      1945          2010   \n",
       "2014-05-02 00:00:00              0      1944             0   \n",
       "2014-05-02 00:00:00            950      1955          2009   \n",
       "2014-05-02 00:00:00              0      1990          2009   \n",
       "2014-05-02 00:00:00              0      1949             0   \n",
       "2014-05-02 00:00:00              0      2001             0   \n",
       "2014-05-02 00:00:00            830      1929             0   \n",
       "2014-05-02 00:00:00            280      2008             0   \n",
       "2014-05-02 00:00:00            350      2009             0   \n",
       "2014-05-02 00:00:00            170      2007             0   \n",
       "\n",
       "                                        street  statezip country  \n",
       "date                                                              \n",
       "2014-05-02 00:00:00            709 W Blaine St  WA 98119     USA  \n",
       "2014-05-02 00:00:00             522 NE 88th St  WA 98115     USA  \n",
       "2014-05-02 00:00:00           6811 55th Ave NE  WA 98115     USA  \n",
       "2014-05-02 00:00:00      3838-4098 44th Ave NE  WA 98105     USA  \n",
       "2014-05-02 00:00:00        2504 SW Portland Ct  WA 98106     USA  \n",
       "2014-05-02 00:00:00           3534 46th Ave NE  WA 98105     USA  \n",
       "2014-05-02 00:00:00            3225 NE 92nd St  WA 98115     USA  \n",
       "2014-05-02 00:00:00        3140 Franklin Ave E  WA 98102     USA  \n",
       "2014-05-02 00:00:00           2021 NE 100th St  WA 98125     USA  \n",
       "2014-05-02 00:00:00      8436-8438 41st Ave SW  WA 98136     USA  \n",
       "2014-05-02 00:00:00            3314 NW 75th St  WA 98117     USA  \n",
       "2014-05-02 00:00:00      7201-7399 55th Ave NE  WA 98115     USA  \n",
       "2014-05-02 00:00:00       4801-4899 6th Ave NW  WA 98107     USA  \n",
       "2014-05-02 00:00:00           3628 59th Ave SW  WA 98116     USA  \n",
       "2014-05-02 00:00:00           4458 51st Ave SW  WA 98116     USA  \n",
       "2014-05-02 00:00:00           7542 21st Ave SW  WA 98106     USA  \n",
       "2014-05-02 00:00:00            2640 NW 56th St  WA 98107     USA  \n",
       "2014-05-02 00:00:00           6222 30th Ave NE  WA 98115     USA  \n",
       "2014-05-02 00:00:00            3400 21st Ave W  WA 98199     USA  \n",
       "2014-05-02 00:00:00  5944-6082 Delridge Way SW  WA 98106     USA  \n",
       "2014-05-02 00:00:00             1156 N 93rd St  WA 98103     USA  "
      ]
     },
     "execution_count": 581,
     "metadata": {},
     "output_type": "execute_result"
    }
   ],
   "source": [
    "df.loc['Seattle'].loc['2014-05-02 00:00:00']"
   ]
  },
  {
   "cell_type": "code",
   "execution_count": null,
   "id": "9b9fb351",
   "metadata": {},
   "outputs": [],
   "source": []
  }
 ],
 "metadata": {
  "kernelspec": {
   "display_name": "Python 3 (ipykernel)",
   "language": "python",
   "name": "python3"
  },
  "language_info": {
   "codemirror_mode": {
    "name": "ipython",
    "version": 3
   },
   "file_extension": ".py",
   "mimetype": "text/x-python",
   "name": "python",
   "nbconvert_exporter": "python",
   "pygments_lexer": "ipython3",
   "version": "3.9.7"
  }
 },
 "nbformat": 4,
 "nbformat_minor": 5
}
